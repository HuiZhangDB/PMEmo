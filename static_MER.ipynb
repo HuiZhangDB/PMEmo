{
 "cells": [
  {
   "cell_type": "code",
   "execution_count": 1,
   "metadata": {},
   "outputs": [],
   "source": [
    "# load .env variables\n",
    "from dotenv import load_dotenv\n",
    "load_dotenv()\n",
    "import os\n",
    "DATASET_DIR = os.getenv(\"DATASET_DIR\")"
   ]
  },
  {
   "cell_type": "code",
   "execution_count": 2,
   "metadata": {},
   "outputs": [],
   "source": [
    "import pandas as pd\n",
    "def _load_static_features():\n",
    "    features_csv = os.path.join(DATASET_DIR, 'static_features.csv')\n",
    "    static_features= pd.read_csv(features_csv, index_col=0)\n",
    "    return static_features\n",
    "\n",
    "def load_static_features_and_valence():\n",
    "    static_features = _load_static_features()\n",
    "    valence_csv = os.path.join(DATASET_DIR, 'V_static.csv')\n",
    "    valence = pd.read_csv(valence_csv, index_col=0, usecols=['musicId','mean_V'])\n",
    "    return static_features.join(valence).dropna()\n",
    "\n",
    "def load_static_features_and_arousal():\n",
    "    static_features = _load_static_features()\n",
    "    arousal_csv = os.path.join(DATASET_DIR, 'A_static.csv')\n",
    "    arousal = pd.read_csv(arousal_csv, index_col=0, usecols=['musicId','mean_A'])\n",
    "    return static_features.join(arousal).dropna()"
   ]
  },
  {
   "cell_type": "code",
   "execution_count": 3,
   "metadata": {},
   "outputs": [],
   "source": [
    "from sklearn.utils import shuffle\n",
    "from math import sqrt, floor\n",
    "from sklearn.svm import SVR\n",
    "from sklearn.metrics import mean_squared_error, r2_score\n",
    "from scipy.stats import pearsonr\n",
    "\n",
    "def _get_train_test_data(data):\n",
    "    data = shuffle(data)\n",
    "    features = data[data.columns[:-1]].values\n",
    "    labels = data[data.columns[-1]].values\n",
    "\n",
    "    n_samples = labels.shape[0]\n",
    "    train_num = floor(n_samples*10/11)\n",
    "\n",
    "    X_train, X_test, y_train, y_test = features[:train_num], features[train_num:], labels[:train_num], labels[train_num:]\n",
    "    return X_train, X_test, y_train, y_test\n",
    "\n",
    "def train_and_test(data):\n",
    "    X_train, X_test, y_train, y_test = _get_train_test_data(data)\n",
    "    \n",
    "    clf = SVR(kernel='rbf', gamma='scale',C=1.0, epsilon=0.2)\n",
    "    clf.fit(X_train, y_train)\n",
    "    y_pred = clf.predict(X_test)\n",
    "    rmse = sqrt(mean_squared_error(y_test, y_pred))\n",
    "    r2 = r2_score(y_test, y_pred)\n",
    "    r, p = pearsonr(y_test, y_pred)\n",
    "    print(f'RMSE: {rmse}, R: {r}')"
   ]
  },
  {
   "cell_type": "code",
   "execution_count": 7,
   "metadata": {},
   "outputs": [
    {
     "name": "stdout",
     "output_type": "stream",
     "text": [
      "In Valence dimension...\n",
      "RMSE: 0.17665895499447476, R: 0.18387794030468066\n",
      "In Arousal dimension...\n",
      "RMSE: 0.16201368428281698, R: 2.9661822647556196e-16\n"
     ]
    }
   ],
   "source": [
    "data_v = load_static_features_and_valence()\n",
    "data_a = load_static_features_and_arousal()\n",
    "\n",
    "print('In Valence dimension...')\n",
    "train_and_test(data_v)\n",
    "\n",
    "print('In Arousal dimension...')\n",
    "train_and_test(data_a)\n"
   ]
  }
 ],
 "metadata": {
  "kernelspec": {
   "display_name": "Python 3",
   "language": "python",
   "name": "python3"
  },
  "language_info": {
   "codemirror_mode": {
    "name": "ipython",
    "version": 3
   },
   "file_extension": ".py",
   "mimetype": "text/x-python",
   "name": "python",
   "nbconvert_exporter": "python",
   "pygments_lexer": "ipython3",
   "version": "3.6.4"
  }
 },
 "nbformat": 4,
 "nbformat_minor": 2
}
