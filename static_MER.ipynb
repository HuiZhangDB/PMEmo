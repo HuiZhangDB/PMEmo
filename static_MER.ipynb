{
 "cells": [
  {
   "cell_type": "markdown",
   "metadata": {},
   "source": [
    "# PMEmo: A Dataset for Music Emotion Recognition\n",
    "Hui Zhang, Kejun Zhang, Yehang Yin, BaiXi Xing, Lingyun Sun, Shouqian Sun\n",
    "\n",
    "## Baselines in Static Emotion Recognition\n",
    "This notebook evaluates: \n",
    "* standard regressors from scikit-learn on the statcic audio features.\n",
    "* standard regressors from scikit-learn on the lyric features.\n",
    "* standard regressors from scikit-learn on the static EDA features.\n",
    "* multimodal emotion recognition based on fusion featrues."
   ]
  },
  {
   "cell_type": "code",
   "execution_count": 17,
   "metadata": {},
   "outputs": [],
   "source": [
    "import pandas as pd\n",
    "import os\n",
    "import numpy as np\n",
    "from math import sqrt\n",
    "\n",
    "from sklearn.linear_model import Lasso, ElasticNet, Ridge\n",
    "from sklearn.svm import SVR\n",
    "from sklearn.neighbors import KNeighborsRegressor\n",
    "from sklearn.tree import DecisionTreeRegressor\n",
    "from sklearn.ensemble import RandomForestRegressor, AdaBoostRegressor\n",
    "from sklearn.neural_network import MLPRegressor\n",
    "from sklearn.metrics import mean_squared_error, make_scorer\n",
    "from scipy.stats import pearsonr\n",
    "from sklearn.preprocessing import StandardScaler\n",
    "from sklearn.model_selection import cross_validate, KFold\n",
    "from sklearn.feature_extraction.text import TfidfVectorizer, CountVectorizer\n",
    "from sklearn.pipeline import make_pipeline\n",
    "from nltk.stem.snowball import SnowballStemmer\n",
    "from sklearn.decomposition import PCA\n",
    "from sklearn.compose import ColumnTransformer\n",
    "from sklearn.decomposition import TruncatedSVD"
   ]
  },
  {
   "cell_type": "markdown",
   "metadata": {},
   "source": [
    "### Loading Data"
   ]
  },
  {
   "cell_type": "code",
   "execution_count": 4,
   "metadata": {},
   "outputs": [],
   "source": [
    "DATASET_DIR = 'dataset'\n",
    "\n",
    "def load_static_features():\n",
    "    features_csv = os.path.join(DATASET_DIR, 'static_features.csv')\n",
    "    static_features= pd.read_csv(features_csv, index_col=0)\n",
    "    return static_features\n",
    "\n",
    "def load_static_features_and_valence():\n",
    "    static_features = load_static_features()\n",
    "    valence_csv = os.path.join(DATASET_DIR, 'static_annotations.csv')\n",
    "    valence = pd.read_csv(valence_csv, index_col=0, usecols=['musicId','Valence(mean)'])\n",
    "    return static_features.join(valence).dropna()\n",
    "\n",
    "def load_static_features_and_arousal():\n",
    "    static_features = load_static_features()\n",
    "    arousal_csv = os.path.join(DATASET_DIR, 'static_annotations.csv')\n",
    "    arousal = pd.read_csv(arousal_csv, index_col=0, usecols=['musicId','Arousal(mean)'])\n",
    "    return static_features.join(arousal).dropna()\n",
    "\n",
    "def load_audio_dataset(data):\n",
    "    features = data[data.columns[:-1]].values\n",
    "    labels = data[data.columns[-1]].values\n",
    "#     scaler = StandardScaler(copy=False)\n",
    "#     scaler.fit_transform(features)\n",
    "    return features, labels"
   ]
  },
  {
   "cell_type": "markdown",
   "metadata": {},
   "source": [
    "### Metric and Multiple Regressors"
   ]
  },
  {
   "cell_type": "code",
   "execution_count": 5,
   "metadata": {},
   "outputs": [],
   "source": [
    "def rmse(y, y_pred):\n",
    "    return sqrt(mean_squared_error(y, y_pred))\n",
    "\n",
    "\n",
    "regressors = {\n",
    "    'Lasso': Lasso(),\n",
    "    'ElasticNet': ElasticNet(),\n",
    "    'Ridge': Ridge(),\n",
    "    'kNN': KNeighborsRegressor(),\n",
    "    'SVRrbf': SVR(kernel='rbf', gamma='scale'),\n",
    "    'SVRpoly': SVR(kernel='poly', gamma='scale'),\n",
    "    'SVRlinear': SVR(kernel='linear', gamma='scale'),\n",
    "    'DT': DecisionTreeRegressor(max_depth=5),\n",
    "    'RF': RandomForestRegressor(max_depth=5, n_estimators=10, max_features=1),\n",
    "#     'MLP': MLPRegressor(hidden_layer_sizes=(200,50), max_iter=2000),\n",
    "#     'AdaBoost': AdaBoostRegressor(n_estimators=10),\n",
    "}"
   ]
  },
  {
   "cell_type": "code",
   "execution_count": 6,
   "metadata": {},
   "outputs": [],
   "source": [
    "from tqdm import tqdm_notebook\n",
    "import IPython.display as ipd\n",
    "\n",
    "def cross_val_regression(regressors, features, labels, preprocessfunc):\n",
    "    columns = list(regressors.keys())\n",
    "    scores = pd.DataFrame(columns=columns, index=['RMSE'])\n",
    "\n",
    "    for reg_name, reg in tqdm_notebook(regressors.items(), desc='regressors'):\n",
    "        scorer = {'rmse': make_scorer(rmse)}\n",
    "        reg = make_pipeline(*preprocessfunc, reg)\n",
    "        reg_score = cross_validate(reg, features, labels, scoring=scorer, cv=10, return_train_score=False) \n",
    "        scores.loc['RMSE', reg_name] = reg_score['test_rmse'].mean()\n",
    "#         scores.loc['R', reg_name] = reg_score['test_r'].mean()\n",
    "\n",
    "    mean_rmse = scores.mean(axis=1)\n",
    "    std_rmse = scores.std(axis=1)\n",
    "    \n",
    "    scores['Mean'] = mean_rmse\n",
    "    scores['std'] = std_rmse\n",
    "    return scores\n",
    "\n",
    "def format_scores(scores):\n",
    "    def highlight(s):\n",
    "        is_min = s == min(s)\n",
    "#         is_max = s == max(s)\n",
    "#         is_max_or_min = (is_min | is_max)\n",
    "        return ['background-color: yellow' if v else '' for v in is_min]\n",
    "    scores = scores.style.apply(highlight, axis=1, subset=pd.IndexSlice[:, :scores.columns[-2]])\n",
    "    return scores.format('{:.3f}')"
   ]
  },
  {
   "cell_type": "markdown",
   "metadata": {},
   "source": [
    "### Multiple Regressors on Audio Features\n",
    "\n",
    "Evaluating regressors on 6373-dim audio features."
   ]
  },
  {
   "cell_type": "code",
   "execution_count": 5,
   "metadata": {},
   "outputs": [
    {
     "name": "stdout",
     "output_type": "stream",
     "text": [
      "In Arousal dimension...\n"
     ]
    },
    {
     "data": {
      "application/vnd.jupyter.widget-view+json": {
       "model_id": "ca19ae4786494925aa2c18b9b7104644",
       "version_major": 2,
       "version_minor": 0
      },
      "text/plain": [
       "HBox(children=(IntProgress(value=0, description='regressors', max=9), HTML(value='')))"
      ]
     },
     "metadata": {},
     "output_type": "display_data"
    },
    {
     "name": "stdout",
     "output_type": "stream",
     "text": [
      "\n"
     ]
    },
    {
     "data": {
      "text/html": [
       "<style  type=\"text/css\" >\n",
       "    #T_88e00668_61a7_11e9_9c1b_14205e084cferow0_col6 {\n",
       "            background-color:  yellow;\n",
       "        }</style>  \n",
       "<table id=\"T_88e00668_61a7_11e9_9c1b_14205e084cfe\" > \n",
       "<thead>    <tr> \n",
       "        <th class=\"blank level0\" ></th> \n",
       "        <th class=\"col_heading level0 col0\" >Lasso</th> \n",
       "        <th class=\"col_heading level0 col1\" >ElasticNet</th> \n",
       "        <th class=\"col_heading level0 col2\" >Ridge</th> \n",
       "        <th class=\"col_heading level0 col3\" >kNN</th> \n",
       "        <th class=\"col_heading level0 col4\" >SVRrbf</th> \n",
       "        <th class=\"col_heading level0 col5\" >SVRpoly</th> \n",
       "        <th class=\"col_heading level0 col6\" >SVRlinear</th> \n",
       "        <th class=\"col_heading level0 col7\" >DT</th> \n",
       "        <th class=\"col_heading level0 col8\" >RF</th> \n",
       "        <th class=\"col_heading level0 col9\" >Mean</th> \n",
       "        <th class=\"col_heading level0 col10\" >std</th> \n",
       "    </tr></thead> \n",
       "<tbody>    <tr> \n",
       "        <th id=\"T_88e00668_61a7_11e9_9c1b_14205e084cfelevel0_row0\" class=\"row_heading level0 row0\" >RMSE</th> \n",
       "        <td id=\"T_88e00668_61a7_11e9_9c1b_14205e084cferow0_col0\" class=\"data row0 col0\" >0.184</td> \n",
       "        <td id=\"T_88e00668_61a7_11e9_9c1b_14205e084cferow0_col1\" class=\"data row0 col1\" >0.184</td> \n",
       "        <td id=\"T_88e00668_61a7_11e9_9c1b_14205e084cferow0_col2\" class=\"data row0 col2\" >0.140</td> \n",
       "        <td id=\"T_88e00668_61a7_11e9_9c1b_14205e084cferow0_col3\" class=\"data row0 col3\" >0.136</td> \n",
       "        <td id=\"T_88e00668_61a7_11e9_9c1b_14205e084cferow0_col4\" class=\"data row0 col4\" >0.119</td> \n",
       "        <td id=\"T_88e00668_61a7_11e9_9c1b_14205e084cferow0_col5\" class=\"data row0 col5\" >0.227</td> \n",
       "        <td id=\"T_88e00668_61a7_11e9_9c1b_14205e084cferow0_col6\" class=\"data row0 col6\" >0.110</td> \n",
       "        <td id=\"T_88e00668_61a7_11e9_9c1b_14205e084cferow0_col7\" class=\"data row0 col7\" >0.129</td> \n",
       "        <td id=\"T_88e00668_61a7_11e9_9c1b_14205e084cferow0_col8\" class=\"data row0 col8\" >0.154</td> \n",
       "        <td id=\"T_88e00668_61a7_11e9_9c1b_14205e084cferow0_col9\" class=\"data row0 col9\" >0.154</td> \n",
       "        <td id=\"T_88e00668_61a7_11e9_9c1b_14205e084cferow0_col10\" class=\"data row0 col10\" >0.038</td> \n",
       "    </tr></tbody> \n",
       "</table> "
      ],
      "text/plain": [
       "<pandas.io.formats.style.Styler at 0x11b3d46a0>"
      ]
     },
     "metadata": {},
     "output_type": "display_data"
    },
    {
     "name": "stdout",
     "output_type": "stream",
     "text": [
      "In Valence dimension...\n"
     ]
    },
    {
     "data": {
      "application/vnd.jupyter.widget-view+json": {
       "model_id": "34d477b912eb4746a8610fdc74fba642",
       "version_major": 2,
       "version_minor": 0
      },
      "text/plain": [
       "HBox(children=(IntProgress(value=0, description='regressors', max=9), HTML(value='')))"
      ]
     },
     "metadata": {},
     "output_type": "display_data"
    },
    {
     "name": "stdout",
     "output_type": "stream",
     "text": [
      "\n"
     ]
    },
    {
     "data": {
      "text/html": [
       "<style  type=\"text/css\" >\n",
       "    #T_bc762f74_61a7_11e9_986d_14205e084cferow0_col4 {\n",
       "            background-color:  yellow;\n",
       "        }</style>  \n",
       "<table id=\"T_bc762f74_61a7_11e9_986d_14205e084cfe\" > \n",
       "<thead>    <tr> \n",
       "        <th class=\"blank level0\" ></th> \n",
       "        <th class=\"col_heading level0 col0\" >Lasso</th> \n",
       "        <th class=\"col_heading level0 col1\" >ElasticNet</th> \n",
       "        <th class=\"col_heading level0 col2\" >Ridge</th> \n",
       "        <th class=\"col_heading level0 col3\" >kNN</th> \n",
       "        <th class=\"col_heading level0 col4\" >SVRrbf</th> \n",
       "        <th class=\"col_heading level0 col5\" >SVRpoly</th> \n",
       "        <th class=\"col_heading level0 col6\" >SVRlinear</th> \n",
       "        <th class=\"col_heading level0 col7\" >DT</th> \n",
       "        <th class=\"col_heading level0 col8\" >RF</th> \n",
       "        <th class=\"col_heading level0 col9\" >Mean</th> \n",
       "        <th class=\"col_heading level0 col10\" >std</th> \n",
       "    </tr></thead> \n",
       "<tbody>    <tr> \n",
       "        <th id=\"T_bc762f74_61a7_11e9_986d_14205e084cfelevel0_row0\" class=\"row_heading level0 row0\" >RMSE</th> \n",
       "        <td id=\"T_bc762f74_61a7_11e9_986d_14205e084cferow0_col0\" class=\"data row0 col0\" >0.162</td> \n",
       "        <td id=\"T_bc762f74_61a7_11e9_986d_14205e084cferow0_col1\" class=\"data row0 col1\" >0.162</td> \n",
       "        <td id=\"T_bc762f74_61a7_11e9_986d_14205e084cferow0_col2\" class=\"data row0 col2\" >0.163</td> \n",
       "        <td id=\"T_bc762f74_61a7_11e9_986d_14205e084cferow0_col3\" class=\"data row0 col3\" >0.135</td> \n",
       "        <td id=\"T_bc762f74_61a7_11e9_986d_14205e084cferow0_col4\" class=\"data row0 col4\" >0.121</td> \n",
       "        <td id=\"T_bc762f74_61a7_11e9_986d_14205e084cferow0_col5\" class=\"data row0 col5\" >0.225</td> \n",
       "        <td id=\"T_bc762f74_61a7_11e9_986d_14205e084cferow0_col6\" class=\"data row0 col6\" >0.122</td> \n",
       "        <td id=\"T_bc762f74_61a7_11e9_986d_14205e084cferow0_col7\" class=\"data row0 col7\" >0.141</td> \n",
       "        <td id=\"T_bc762f74_61a7_11e9_986d_14205e084cferow0_col8\" class=\"data row0 col8\" >0.140</td> \n",
       "        <td id=\"T_bc762f74_61a7_11e9_986d_14205e084cferow0_col9\" class=\"data row0 col9\" >0.152</td> \n",
       "        <td id=\"T_bc762f74_61a7_11e9_986d_14205e084cferow0_col10\" class=\"data row0 col10\" >0.032</td> \n",
       "    </tr></tbody> \n",
       "</table> "
      ],
      "text/plain": [
       "<pandas.io.formats.style.Styler at 0x119f8fef0>"
      ]
     },
     "metadata": {},
     "output_type": "display_data"
    }
   ],
   "source": [
    "prefunc = [StandardScaler()]\n",
    "\n",
    "print('In Arousal dimension...')\n",
    "data_a = load_static_features_and_arousal()\n",
    "features_a, labels_a = load_audio_dataset(data_a)\n",
    "\n",
    "scores_a_a = cross_val_regression(regressors, features_a, labels_a, prefunc)\n",
    "ipd.display(format_scores(scores_a_a))\n",
    "\n",
    "print('In Valence dimension...')\n",
    "data_v = load_static_features_and_valence()\n",
    "features_v, labels_v = load_audio_dataset(data_v)\n",
    "\n",
    "scores_a_v = cross_val_regression(regressors, features_v, labels_v, prefunc)\n",
    "ipd.display(format_scores(scores_a_v))"
   ]
  },
  {
   "cell_type": "markdown",
   "metadata": {},
   "source": [
    "### Multiple Regressors on Lyric Features\n",
    "\n",
    "Evaluating regressors on lyric features extracted using Bag-of-Words representation:\n",
    "\n",
    "* tokenizing with deleting stop-words and stemming.\n",
    "* counting the occurrences of tokens in each document.\n",
    "* normalizing and weighting using tf-idf (term-frequency inverse-document-frequency) function."
   ]
  },
  {
   "cell_type": "code",
   "execution_count": 15,
   "metadata": {},
   "outputs": [],
   "source": [
    "class StemmedTfidfVectorizer(TfidfVectorizer):\n",
    "    def build_analyzer(self):\n",
    "        analyzer = super(StemmedTfidfVectorizer, self).build_analyzer()\n",
    "        stemmer = SnowballStemmer(\"english\", ignore_stopwords=True)\n",
    "        return lambda doc: ([stemmer.stem(w) for w in analyzer(doc)])"
   ]
  },
  {
   "cell_type": "code",
   "execution_count": 11,
   "metadata": {},
   "outputs": [
    {
     "name": "stdout",
     "output_type": "stream",
     "text": [
      "In Arousal dimension...\n"
     ]
    },
    {
     "data": {
      "application/vnd.jupyter.widget-view+json": {
       "model_id": "7dfb8770bd3f4899a7d182ed192bf5c6",
       "version_major": 2,
       "version_minor": 0
      },
      "text/plain": [
       "HBox(children=(IntProgress(value=0, description='regressors', max=9), HTML(value='')))"
      ]
     },
     "metadata": {},
     "output_type": "display_data"
    },
    {
     "name": "stdout",
     "output_type": "stream",
     "text": [
      "\n"
     ]
    },
    {
     "data": {
      "text/html": [
       "<style  type=\"text/css\" >\n",
       "    #T_ff32a200_61b1_11e9_8684_14205e084cferow0_col2 {\n",
       "            background-color:  yellow;\n",
       "        }</style>  \n",
       "<table id=\"T_ff32a200_61b1_11e9_8684_14205e084cfe\" > \n",
       "<thead>    <tr> \n",
       "        <th class=\"blank level0\" ></th> \n",
       "        <th class=\"col_heading level0 col0\" >Lasso</th> \n",
       "        <th class=\"col_heading level0 col1\" >ElasticNet</th> \n",
       "        <th class=\"col_heading level0 col2\" >Ridge</th> \n",
       "        <th class=\"col_heading level0 col3\" >kNN</th> \n",
       "        <th class=\"col_heading level0 col4\" >SVRrbf</th> \n",
       "        <th class=\"col_heading level0 col5\" >SVRpoly</th> \n",
       "        <th class=\"col_heading level0 col6\" >SVRlinear</th> \n",
       "        <th class=\"col_heading level0 col7\" >DT</th> \n",
       "        <th class=\"col_heading level0 col8\" >RF</th> \n",
       "        <th class=\"col_heading level0 col9\" >Mean</th> \n",
       "        <th class=\"col_heading level0 col10\" >std</th> \n",
       "    </tr></thead> \n",
       "<tbody>    <tr> \n",
       "        <th id=\"T_ff32a200_61b1_11e9_8684_14205e084cfelevel0_row0\" class=\"row_heading level0 row0\" >RMSE</th> \n",
       "        <td id=\"T_ff32a200_61b1_11e9_8684_14205e084cferow0_col0\" class=\"data row0 col0\" >0.183</td> \n",
       "        <td id=\"T_ff32a200_61b1_11e9_8684_14205e084cferow0_col1\" class=\"data row0 col1\" >0.183</td> \n",
       "        <td id=\"T_ff32a200_61b1_11e9_8684_14205e084cferow0_col2\" class=\"data row0 col2\" >0.170</td> \n",
       "        <td id=\"T_ff32a200_61b1_11e9_8684_14205e084cferow0_col3\" class=\"data row0 col3\" >0.180</td> \n",
       "        <td id=\"T_ff32a200_61b1_11e9_8684_14205e084cferow0_col4\" class=\"data row0 col4\" >0.176</td> \n",
       "        <td id=\"T_ff32a200_61b1_11e9_8684_14205e084cferow0_col5\" class=\"data row0 col5\" >0.183</td> \n",
       "        <td id=\"T_ff32a200_61b1_11e9_8684_14205e084cferow0_col6\" class=\"data row0 col6\" >0.173</td> \n",
       "        <td id=\"T_ff32a200_61b1_11e9_8684_14205e084cferow0_col7\" class=\"data row0 col7\" >0.188</td> \n",
       "        <td id=\"T_ff32a200_61b1_11e9_8684_14205e084cferow0_col8\" class=\"data row0 col8\" >0.182</td> \n",
       "        <td id=\"T_ff32a200_61b1_11e9_8684_14205e084cferow0_col9\" class=\"data row0 col9\" >0.180</td> \n",
       "        <td id=\"T_ff32a200_61b1_11e9_8684_14205e084cferow0_col10\" class=\"data row0 col10\" >0.006</td> \n",
       "    </tr></tbody> \n",
       "</table> "
      ],
      "text/plain": [
       "<pandas.io.formats.style.Styler at 0x11b3d4630>"
      ]
     },
     "metadata": {},
     "output_type": "display_data"
    },
    {
     "name": "stdout",
     "output_type": "stream",
     "text": [
      "In Valence dimension...\n"
     ]
    },
    {
     "data": {
      "application/vnd.jupyter.widget-view+json": {
       "model_id": "59578ff623d247b79aa7d4215de04d98",
       "version_major": 2,
       "version_minor": 0
      },
      "text/plain": [
       "HBox(children=(IntProgress(value=0, description='regressors', max=9), HTML(value='')))"
      ]
     },
     "metadata": {},
     "output_type": "display_data"
    },
    {
     "name": "stdout",
     "output_type": "stream",
     "text": [
      "\n"
     ]
    },
    {
     "data": {
      "text/html": [
       "<style  type=\"text/css\" >\n",
       "    #T_4bd68478_61b2_11e9_be20_14205e084cferow0_col2 {\n",
       "            background-color:  yellow;\n",
       "        }</style>  \n",
       "<table id=\"T_4bd68478_61b2_11e9_be20_14205e084cfe\" > \n",
       "<thead>    <tr> \n",
       "        <th class=\"blank level0\" ></th> \n",
       "        <th class=\"col_heading level0 col0\" >Lasso</th> \n",
       "        <th class=\"col_heading level0 col1\" >ElasticNet</th> \n",
       "        <th class=\"col_heading level0 col2\" >Ridge</th> \n",
       "        <th class=\"col_heading level0 col3\" >kNN</th> \n",
       "        <th class=\"col_heading level0 col4\" >SVRrbf</th> \n",
       "        <th class=\"col_heading level0 col5\" >SVRpoly</th> \n",
       "        <th class=\"col_heading level0 col6\" >SVRlinear</th> \n",
       "        <th class=\"col_heading level0 col7\" >DT</th> \n",
       "        <th class=\"col_heading level0 col8\" >RF</th> \n",
       "        <th class=\"col_heading level0 col9\" >Mean</th> \n",
       "        <th class=\"col_heading level0 col10\" >std</th> \n",
       "    </tr></thead> \n",
       "<tbody>    <tr> \n",
       "        <th id=\"T_4bd68478_61b2_11e9_be20_14205e084cfelevel0_row0\" class=\"row_heading level0 row0\" >RMSE</th> \n",
       "        <td id=\"T_4bd68478_61b2_11e9_be20_14205e084cferow0_col0\" class=\"data row0 col0\" >0.160</td> \n",
       "        <td id=\"T_4bd68478_61b2_11e9_be20_14205e084cferow0_col1\" class=\"data row0 col1\" >0.160</td> \n",
       "        <td id=\"T_4bd68478_61b2_11e9_be20_14205e084cferow0_col2\" class=\"data row0 col2\" >0.132</td> \n",
       "        <td id=\"T_4bd68478_61b2_11e9_be20_14205e084cferow0_col3\" class=\"data row0 col3\" >0.145</td> \n",
       "        <td id=\"T_4bd68478_61b2_11e9_be20_14205e084cferow0_col4\" class=\"data row0 col4\" >0.146</td> \n",
       "        <td id=\"T_4bd68478_61b2_11e9_be20_14205e084cferow0_col5\" class=\"data row0 col5\" >0.160</td> \n",
       "        <td id=\"T_4bd68478_61b2_11e9_be20_14205e084cferow0_col6\" class=\"data row0 col6\" >0.135</td> \n",
       "        <td id=\"T_4bd68478_61b2_11e9_be20_14205e084cferow0_col7\" class=\"data row0 col7\" >0.146</td> \n",
       "        <td id=\"T_4bd68478_61b2_11e9_be20_14205e084cferow0_col8\" class=\"data row0 col8\" >0.159</td> \n",
       "        <td id=\"T_4bd68478_61b2_11e9_be20_14205e084cferow0_col9\" class=\"data row0 col9\" >0.149</td> \n",
       "        <td id=\"T_4bd68478_61b2_11e9_be20_14205e084cferow0_col10\" class=\"data row0 col10\" >0.011</td> \n",
       "    </tr></tbody> \n",
       "</table> "
      ],
      "text/plain": [
       "<pandas.io.formats.style.Styler at 0x11d8ab3c8>"
      ]
     },
     "metadata": {},
     "output_type": "display_data"
    }
   ],
   "source": [
    "lyric_dataset = pd.read_csv('lrc_dataset.csv', index_col=0)\n",
    "X = lyric_dataset['lrc_text']\n",
    "# tf_idf = TfidfVectorizer(sublinear_tf=True, max_df=0.5, stop_words='english')\n",
    "# sel = TruncatedSVD(n_components=5000)\n",
    "stemmed_tf_idf = StemmedTfidfVectorizer(sublinear_tf=True, max_df=0.5, stop_words='english')\n",
    "prefunc = [stemmed_tf_idf]\n",
    "\n",
    "print('In Arousal dimension...')\n",
    "y_a = lyric_dataset['Arousal(mean)']\n",
    "scores_l_a = cross_val_regression(regressors, X, y_a, prefunc)\n",
    "ipd.display(format_scores(scores_l_a))\n",
    "\n",
    "print('In Valence dimension...')\n",
    "y_v = lyric_dataset['Valence(mean)']\n",
    "scores_l_v = cross_val_regression(regressors, X, y_v, prefunc)\n",
    "ipd.display(format_scores(scores_l_v))"
   ]
  },
  {
   "cell_type": "markdown",
   "metadata": {},
   "source": [
    "### Multiple Regressors on EDA Features\n",
    "\n",
    "Evaluating regressors on EDA features."
   ]
  },
  {
   "cell_type": "code",
   "execution_count": 42,
   "metadata": {},
   "outputs": [],
   "source": [
    "eda_dataset = pd.read_csv('eda_dataset.csv')\n",
    "eda_dataset = eda_dataset.groupby(by=['musicId'], as_index=False).mean()"
   ]
  },
  {
   "cell_type": "code",
   "execution_count": 9,
   "metadata": {},
   "outputs": [
    {
     "name": "stdout",
     "output_type": "stream",
     "text": [
      "In Arousal dimension...\n"
     ]
    },
    {
     "data": {
      "application/vnd.jupyter.widget-view+json": {
       "model_id": "a4745b7845cb41bf985dd60f0ed5c396",
       "version_major": 2,
       "version_minor": 0
      },
      "text/plain": [
       "HBox(children=(IntProgress(value=0, description='regressors', max=9), HTML(value='')))"
      ]
     },
     "metadata": {},
     "output_type": "display_data"
    },
    {
     "name": "stdout",
     "output_type": "stream",
     "text": [
      "\n"
     ]
    },
    {
     "data": {
      "text/html": [
       "<style  type=\"text/css\" >\n",
       "    #T_80dd0468_7b95_11e9_9c00_787b8added81row0_col0 {\n",
       "            background-color:  yellow;\n",
       "        }    #T_80dd0468_7b95_11e9_9c00_787b8added81row0_col1 {\n",
       "            background-color:  yellow;\n",
       "        }</style>  \n",
       "<table id=\"T_80dd0468_7b95_11e9_9c00_787b8added81\" > \n",
       "<thead>    <tr> \n",
       "        <th class=\"blank level0\" ></th> \n",
       "        <th class=\"col_heading level0 col0\" >Lasso</th> \n",
       "        <th class=\"col_heading level0 col1\" >ElasticNet</th> \n",
       "        <th class=\"col_heading level0 col2\" >Ridge</th> \n",
       "        <th class=\"col_heading level0 col3\" >kNN</th> \n",
       "        <th class=\"col_heading level0 col4\" >SVRrbf</th> \n",
       "        <th class=\"col_heading level0 col5\" >SVRpoly</th> \n",
       "        <th class=\"col_heading level0 col6\" >SVRlinear</th> \n",
       "        <th class=\"col_heading level0 col7\" >DT</th> \n",
       "        <th class=\"col_heading level0 col8\" >RF</th> \n",
       "        <th class=\"col_heading level0 col9\" >Mean</th> \n",
       "        <th class=\"col_heading level0 col10\" >std</th> \n",
       "    </tr></thead> \n",
       "<tbody>    <tr> \n",
       "        <th id=\"T_80dd0468_7b95_11e9_9c00_787b8added81level0_row0\" class=\"row_heading level0 row0\" >RMSE</th> \n",
       "        <td id=\"T_80dd0468_7b95_11e9_9c00_787b8added81row0_col0\" class=\"data row0 col0\" >0.184</td> \n",
       "        <td id=\"T_80dd0468_7b95_11e9_9c00_787b8added81row0_col1\" class=\"data row0 col1\" >0.184</td> \n",
       "        <td id=\"T_80dd0468_7b95_11e9_9c00_787b8added81row0_col2\" class=\"data row0 col2\" >0.195</td> \n",
       "        <td id=\"T_80dd0468_7b95_11e9_9c00_787b8added81row0_col3\" class=\"data row0 col3\" >0.197</td> \n",
       "        <td id=\"T_80dd0468_7b95_11e9_9c00_787b8added81row0_col4\" class=\"data row0 col4\" >0.200</td> \n",
       "        <td id=\"T_80dd0468_7b95_11e9_9c00_787b8added81row0_col5\" class=\"data row0 col5\" >0.205</td> \n",
       "        <td id=\"T_80dd0468_7b95_11e9_9c00_787b8added81row0_col6\" class=\"data row0 col6\" >0.202</td> \n",
       "        <td id=\"T_80dd0468_7b95_11e9_9c00_787b8added81row0_col7\" class=\"data row0 col7\" >0.203</td> \n",
       "        <td id=\"T_80dd0468_7b95_11e9_9c00_787b8added81row0_col8\" class=\"data row0 col8\" >0.185</td> \n",
       "        <td id=\"T_80dd0468_7b95_11e9_9c00_787b8added81row0_col9\" class=\"data row0 col9\" >0.195</td> \n",
       "        <td id=\"T_80dd0468_7b95_11e9_9c00_787b8added81row0_col10\" class=\"data row0 col10\" >0.008</td> \n",
       "    </tr></tbody> \n",
       "</table> "
      ],
      "text/plain": [
       "<pandas.io.formats.style.Styler at 0x1229672b0>"
      ]
     },
     "metadata": {},
     "output_type": "display_data"
    },
    {
     "name": "stdout",
     "output_type": "stream",
     "text": [
      "In Valence dimension...\n"
     ]
    },
    {
     "data": {
      "application/vnd.jupyter.widget-view+json": {
       "model_id": "6f90fbe2cbfd4d10ba76c9b68f73bf4f",
       "version_major": 2,
       "version_minor": 0
      },
      "text/plain": [
       "HBox(children=(IntProgress(value=0, description='regressors', max=9), HTML(value='')))"
      ]
     },
     "metadata": {},
     "output_type": "display_data"
    },
    {
     "name": "stdout",
     "output_type": "stream",
     "text": [
      "\n"
     ]
    },
    {
     "data": {
      "text/html": [
       "<style  type=\"text/css\" >\n",
       "    #T_8f228310_7b95_11e9_afbd_787b8added81row0_col0 {\n",
       "            background-color:  yellow;\n",
       "        }    #T_8f228310_7b95_11e9_afbd_787b8added81row0_col1 {\n",
       "            background-color:  yellow;\n",
       "        }</style>  \n",
       "<table id=\"T_8f228310_7b95_11e9_afbd_787b8added81\" > \n",
       "<thead>    <tr> \n",
       "        <th class=\"blank level0\" ></th> \n",
       "        <th class=\"col_heading level0 col0\" >Lasso</th> \n",
       "        <th class=\"col_heading level0 col1\" >ElasticNet</th> \n",
       "        <th class=\"col_heading level0 col2\" >Ridge</th> \n",
       "        <th class=\"col_heading level0 col3\" >kNN</th> \n",
       "        <th class=\"col_heading level0 col4\" >SVRrbf</th> \n",
       "        <th class=\"col_heading level0 col5\" >SVRpoly</th> \n",
       "        <th class=\"col_heading level0 col6\" >SVRlinear</th> \n",
       "        <th class=\"col_heading level0 col7\" >DT</th> \n",
       "        <th class=\"col_heading level0 col8\" >RF</th> \n",
       "        <th class=\"col_heading level0 col9\" >Mean</th> \n",
       "        <th class=\"col_heading level0 col10\" >std</th> \n",
       "    </tr></thead> \n",
       "<tbody>    <tr> \n",
       "        <th id=\"T_8f228310_7b95_11e9_afbd_787b8added81level0_row0\" class=\"row_heading level0 row0\" >RMSE</th> \n",
       "        <td id=\"T_8f228310_7b95_11e9_afbd_787b8added81row0_col0\" class=\"data row0 col0\" >0.162</td> \n",
       "        <td id=\"T_8f228310_7b95_11e9_afbd_787b8added81row0_col1\" class=\"data row0 col1\" >0.162</td> \n",
       "        <td id=\"T_8f228310_7b95_11e9_afbd_787b8added81row0_col2\" class=\"data row0 col2\" >0.171</td> \n",
       "        <td id=\"T_8f228310_7b95_11e9_afbd_787b8added81row0_col3\" class=\"data row0 col3\" >0.173</td> \n",
       "        <td id=\"T_8f228310_7b95_11e9_afbd_787b8added81row0_col4\" class=\"data row0 col4\" >0.175</td> \n",
       "        <td id=\"T_8f228310_7b95_11e9_afbd_787b8added81row0_col5\" class=\"data row0 col5\" >0.177</td> \n",
       "        <td id=\"T_8f228310_7b95_11e9_afbd_787b8added81row0_col6\" class=\"data row0 col6\" >0.174</td> \n",
       "        <td id=\"T_8f228310_7b95_11e9_afbd_787b8added81row0_col7\" class=\"data row0 col7\" >0.175</td> \n",
       "        <td id=\"T_8f228310_7b95_11e9_afbd_787b8added81row0_col8\" class=\"data row0 col8\" >0.163</td> \n",
       "        <td id=\"T_8f228310_7b95_11e9_afbd_787b8added81row0_col9\" class=\"data row0 col9\" >0.170</td> \n",
       "        <td id=\"T_8f228310_7b95_11e9_afbd_787b8added81row0_col10\" class=\"data row0 col10\" >0.006</td> \n",
       "    </tr></tbody> \n",
       "</table> "
      ],
      "text/plain": [
       "<pandas.io.formats.style.Styler at 0x10fe13588>"
      ]
     },
     "metadata": {},
     "output_type": "display_data"
    }
   ],
   "source": [
    "eda_features = eda_dataset[eda_dataset.columns[2:-2]].astype(float)\n",
    "prefunc = [StandardScaler()]\n",
    "\n",
    "print('In Arousal dimension...')\n",
    "scores_eda_a = cross_val_regression(regressors, eda_features, eda_dataset['Arousal(mean)'], prefunc)\n",
    "ipd.display(format_scores(scores_eda_a))\n",
    "\n",
    "print('In Valence dimension...')\n",
    "scores_eda_v = cross_val_regression(regressors, eda_features, eda_dataset['Valence(mean)'], prefunc)\n",
    "ipd.display(format_scores(scores_eda_v))"
   ]
  },
  {
   "cell_type": "markdown",
   "metadata": {},
   "source": [
    "### Multimodal Emotion Recognition Based on Fusion Featrues.\n",
    "\n",
    "Evaluating multimodal fusion methods using early-fusion-by-feature-concatenation (EFFC), which means concatenate the audio and text features to a single feature vector and train a single classification model."
   ]
  },
  {
   "cell_type": "markdown",
   "metadata": {},
   "source": [
    "####  Audio + Lyric Fusion"
   ]
  },
  {
   "cell_type": "code",
   "execution_count": 19,
   "metadata": {},
   "outputs": [],
   "source": [
    "lyric_dataset = pd.read_csv('lrc_dataset.csv', index_col=0)\n",
    "audio_features = load_static_features()\n",
    "fusion_dataset = lyric_dataset.join(audio_features)\n",
    "# fusion_dataset['lrc_text'] = fusion_dataset['lrc_text'].astype(str)\n",
    "\n",
    "fusion_features = fusion_dataset.drop(columns=['Arousal(mean)', 'Valence(mean)'])\n",
    "arousal = fusion_dataset['Arousal(mean)']\n",
    "valence = fusion_dataset['Valence(mean)']"
   ]
  },
  {
   "cell_type": "code",
   "execution_count": 23,
   "metadata": {},
   "outputs": [
    {
     "name": "stdout",
     "output_type": "stream",
     "text": [
      "In Arousal dimension...\n"
     ]
    },
    {
     "data": {
      "application/vnd.jupyter.widget-view+json": {
       "model_id": "b884b794a37b4100943e1b6c2a88fd92",
       "version_major": 2,
       "version_minor": 0
      },
      "text/plain": [
       "HBox(children=(IntProgress(value=0, description='regressors', max=9), HTML(value='')))"
      ]
     },
     "metadata": {},
     "output_type": "display_data"
    },
    {
     "name": "stdout",
     "output_type": "stream",
     "text": [
      "\n"
     ]
    },
    {
     "data": {
      "text/html": [
       "<style  type=\"text/css\" >\n",
       "    #T_73af56cc_7c3e_11e9_a55d_787b8added81row0_col6 {\n",
       "            background-color:  yellow;\n",
       "        }</style>  \n",
       "<table id=\"T_73af56cc_7c3e_11e9_a55d_787b8added81\" > \n",
       "<thead>    <tr> \n",
       "        <th class=\"blank level0\" ></th> \n",
       "        <th class=\"col_heading level0 col0\" >Lasso</th> \n",
       "        <th class=\"col_heading level0 col1\" >ElasticNet</th> \n",
       "        <th class=\"col_heading level0 col2\" >Ridge</th> \n",
       "        <th class=\"col_heading level0 col3\" >kNN</th> \n",
       "        <th class=\"col_heading level0 col4\" >SVRrbf</th> \n",
       "        <th class=\"col_heading level0 col5\" >SVRpoly</th> \n",
       "        <th class=\"col_heading level0 col6\" >SVRlinear</th> \n",
       "        <th class=\"col_heading level0 col7\" >DT</th> \n",
       "        <th class=\"col_heading level0 col8\" >RF</th> \n",
       "        <th class=\"col_heading level0 col9\" >Mean</th> \n",
       "        <th class=\"col_heading level0 col10\" >std</th> \n",
       "    </tr></thead> \n",
       "<tbody>    <tr> \n",
       "        <th id=\"T_73af56cc_7c3e_11e9_a55d_787b8added81level0_row0\" class=\"row_heading level0 row0\" >RMSE</th> \n",
       "        <td id=\"T_73af56cc_7c3e_11e9_a55d_787b8added81row0_col0\" class=\"data row0 col0\" >0.183</td> \n",
       "        <td id=\"T_73af56cc_7c3e_11e9_a55d_787b8added81row0_col1\" class=\"data row0 col1\" >0.183</td> \n",
       "        <td id=\"T_73af56cc_7c3e_11e9_a55d_787b8added81row0_col2\" class=\"data row0 col2\" >0.135</td> \n",
       "        <td id=\"T_73af56cc_7c3e_11e9_a55d_787b8added81row0_col3\" class=\"data row0 col3\" >0.136</td> \n",
       "        <td id=\"T_73af56cc_7c3e_11e9_a55d_787b8added81row0_col4\" class=\"data row0 col4\" >0.117</td> \n",
       "        <td id=\"T_73af56cc_7c3e_11e9_a55d_787b8added81row0_col5\" class=\"data row0 col5\" >0.396</td> \n",
       "        <td id=\"T_73af56cc_7c3e_11e9_a55d_787b8added81row0_col6\" class=\"data row0 col6\" >0.105</td> \n",
       "        <td id=\"T_73af56cc_7c3e_11e9_a55d_787b8added81row0_col7\" class=\"data row0 col7\" >0.138</td> \n",
       "        <td id=\"T_73af56cc_7c3e_11e9_a55d_787b8added81row0_col8\" class=\"data row0 col8\" >0.162</td> \n",
       "        <td id=\"T_73af56cc_7c3e_11e9_a55d_787b8added81row0_col9\" class=\"data row0 col9\" >0.173</td> \n",
       "        <td id=\"T_73af56cc_7c3e_11e9_a55d_787b8added81row0_col10\" class=\"data row0 col10\" >0.088</td> \n",
       "    </tr></tbody> \n",
       "</table> "
      ],
      "text/plain": [
       "<pandas.io.formats.style.Styler at 0x1060cb0f0>"
      ]
     },
     "metadata": {},
     "output_type": "display_data"
    },
    {
     "name": "stdout",
     "output_type": "stream",
     "text": [
      "In Valence dimension...\n"
     ]
    },
    {
     "data": {
      "application/vnd.jupyter.widget-view+json": {
       "model_id": "3324db826e1341448caae35c15288969",
       "version_major": 2,
       "version_minor": 0
      },
      "text/plain": [
       "HBox(children=(IntProgress(value=0, description='regressors', max=9), HTML(value='')))"
      ]
     },
     "metadata": {},
     "output_type": "display_data"
    },
    {
     "name": "stdout",
     "output_type": "stream",
     "text": [
      "\n"
     ]
    },
    {
     "data": {
      "text/html": [
       "<style  type=\"text/css\" >\n",
       "    #T_00227328_7c3f_11e9_bd0b_787b8added81row0_col4 {\n",
       "            background-color:  yellow;\n",
       "        }</style>  \n",
       "<table id=\"T_00227328_7c3f_11e9_bd0b_787b8added81\" > \n",
       "<thead>    <tr> \n",
       "        <th class=\"blank level0\" ></th> \n",
       "        <th class=\"col_heading level0 col0\" >Lasso</th> \n",
       "        <th class=\"col_heading level0 col1\" >ElasticNet</th> \n",
       "        <th class=\"col_heading level0 col2\" >Ridge</th> \n",
       "        <th class=\"col_heading level0 col3\" >kNN</th> \n",
       "        <th class=\"col_heading level0 col4\" >SVRrbf</th> \n",
       "        <th class=\"col_heading level0 col5\" >SVRpoly</th> \n",
       "        <th class=\"col_heading level0 col6\" >SVRlinear</th> \n",
       "        <th class=\"col_heading level0 col7\" >DT</th> \n",
       "        <th class=\"col_heading level0 col8\" >RF</th> \n",
       "        <th class=\"col_heading level0 col9\" >Mean</th> \n",
       "        <th class=\"col_heading level0 col10\" >std</th> \n",
       "    </tr></thead> \n",
       "<tbody>    <tr> \n",
       "        <th id=\"T_00227328_7c3f_11e9_bd0b_787b8added81level0_row0\" class=\"row_heading level0 row0\" >RMSE</th> \n",
       "        <td id=\"T_00227328_7c3f_11e9_bd0b_787b8added81row0_col0\" class=\"data row0 col0\" >0.160</td> \n",
       "        <td id=\"T_00227328_7c3f_11e9_bd0b_787b8added81row0_col1\" class=\"data row0 col1\" >0.160</td> \n",
       "        <td id=\"T_00227328_7c3f_11e9_bd0b_787b8added81row0_col2\" class=\"data row0 col2\" >0.159</td> \n",
       "        <td id=\"T_00227328_7c3f_11e9_bd0b_787b8added81row0_col3\" class=\"data row0 col3\" >0.130</td> \n",
       "        <td id=\"T_00227328_7c3f_11e9_bd0b_787b8added81row0_col4\" class=\"data row0 col4\" >0.120</td> \n",
       "        <td id=\"T_00227328_7c3f_11e9_bd0b_787b8added81row0_col5\" class=\"data row0 col5\" >0.197</td> \n",
       "        <td id=\"T_00227328_7c3f_11e9_bd0b_787b8added81row0_col6\" class=\"data row0 col6\" >0.121</td> \n",
       "        <td id=\"T_00227328_7c3f_11e9_bd0b_787b8added81row0_col7\" class=\"data row0 col7\" >0.154</td> \n",
       "        <td id=\"T_00227328_7c3f_11e9_bd0b_787b8added81row0_col8\" class=\"data row0 col8\" >0.143</td> \n",
       "        <td id=\"T_00227328_7c3f_11e9_bd0b_787b8added81row0_col9\" class=\"data row0 col9\" >0.149</td> \n",
       "        <td id=\"T_00227328_7c3f_11e9_bd0b_787b8added81row0_col10\" class=\"data row0 col10\" >0.024</td> \n",
       "    </tr></tbody> \n",
       "</table> "
      ],
      "text/plain": [
       "<pandas.io.formats.style.Styler at 0x10eb2fa58>"
      ]
     },
     "metadata": {},
     "output_type": "display_data"
    }
   ],
   "source": [
    "ct = ColumnTransformer(\n",
    "    [('stemmedtf-idf', StemmedTfidfVectorizer(sublinear_tf=True, max_df=0.5, stop_words='english'), 'lrc_text'),\n",
    "     (\"norm2\", StandardScaler(), slice(1, 6374))])\n",
    "\n",
    "print('In Arousal dimension...')\n",
    "scores_f_a = cross_val_regression(regressors, fusion_features, arousal, [ct])\n",
    "ipd.display(format_scores(scores_f_a))\n",
    "\n",
    "print('In Valence dimension...')\n",
    "scores_f_v = cross_val_regression(regressors, fusion_features, valence, [ct])\n",
    "ipd.display(format_scores(scores_f_v))"
   ]
  },
  {
   "cell_type": "markdown",
   "metadata": {},
   "source": [
    "####  Audio + EDA Fusion"
   ]
  },
  {
   "cell_type": "code",
   "execution_count": 7,
   "metadata": {},
   "outputs": [],
   "source": [
    "eda_dataset = pd.read_csv('eda_dataset.csv').groupby(by=['musicId'], as_index=False).mean()\n",
    "audio_features = load_static_features()\n",
    "\n",
    "fusion_dataset = pd.merge(eda_dataset, audio_features, on=['musicId']).dropna()\n",
    "# fusion_dataset['lrc_text'] = fusion_dataset['lrc_text'].astype(str)\n",
    "fusion_features = fusion_dataset.drop(columns=['musicId', 'subjectId', 'Arousal(mean)', 'Valence(mean)'])\n",
    "arousal = fusion_dataset['Arousal(mean)']\n",
    "valence = fusion_dataset['Valence(mean)']"
   ]
  },
  {
   "cell_type": "code",
   "execution_count": 8,
   "metadata": {
    "cell_style": "center"
   },
   "outputs": [
    {
     "name": "stdout",
     "output_type": "stream",
     "text": [
      "In Arousal dimension...\n"
     ]
    },
    {
     "data": {
      "application/vnd.jupyter.widget-view+json": {
       "model_id": "368381be735e4204b7ec5c90f26e8f36",
       "version_major": 2,
       "version_minor": 0
      },
      "text/plain": [
       "HBox(children=(IntProgress(value=0, description='regressors', max=9), HTML(value='')))"
      ]
     },
     "metadata": {},
     "output_type": "display_data"
    },
    {
     "name": "stdout",
     "output_type": "stream",
     "text": [
      "\n"
     ]
    },
    {
     "data": {
      "text/html": [
       "<style  type=\"text/css\" >\n",
       "    #T_22962e76_7c7c_11e9_938d_787b8added81row0_col6 {\n",
       "            background-color:  yellow;\n",
       "        }</style>  \n",
       "<table id=\"T_22962e76_7c7c_11e9_938d_787b8added81\" > \n",
       "<thead>    <tr> \n",
       "        <th class=\"blank level0\" ></th> \n",
       "        <th class=\"col_heading level0 col0\" >Lasso</th> \n",
       "        <th class=\"col_heading level0 col1\" >ElasticNet</th> \n",
       "        <th class=\"col_heading level0 col2\" >Ridge</th> \n",
       "        <th class=\"col_heading level0 col3\" >kNN</th> \n",
       "        <th class=\"col_heading level0 col4\" >SVRrbf</th> \n",
       "        <th class=\"col_heading level0 col5\" >SVRpoly</th> \n",
       "        <th class=\"col_heading level0 col6\" >SVRlinear</th> \n",
       "        <th class=\"col_heading level0 col7\" >DT</th> \n",
       "        <th class=\"col_heading level0 col8\" >RF</th> \n",
       "        <th class=\"col_heading level0 col9\" >Mean</th> \n",
       "        <th class=\"col_heading level0 col10\" >std</th> \n",
       "    </tr></thead> \n",
       "<tbody>    <tr> \n",
       "        <th id=\"T_22962e76_7c7c_11e9_938d_787b8added81level0_row0\" class=\"row_heading level0 row0\" >RMSE</th> \n",
       "        <td id=\"T_22962e76_7c7c_11e9_938d_787b8added81row0_col0\" class=\"data row0 col0\" >0.184</td> \n",
       "        <td id=\"T_22962e76_7c7c_11e9_938d_787b8added81row0_col1\" class=\"data row0 col1\" >0.184</td> \n",
       "        <td id=\"T_22962e76_7c7c_11e9_938d_787b8added81row0_col2\" class=\"data row0 col2\" >0.139</td> \n",
       "        <td id=\"T_22962e76_7c7c_11e9_938d_787b8added81row0_col3\" class=\"data row0 col3\" >0.136</td> \n",
       "        <td id=\"T_22962e76_7c7c_11e9_938d_787b8added81row0_col4\" class=\"data row0 col4\" >0.119</td> \n",
       "        <td id=\"T_22962e76_7c7c_11e9_938d_787b8added81row0_col5\" class=\"data row0 col5\" >0.230</td> \n",
       "        <td id=\"T_22962e76_7c7c_11e9_938d_787b8added81row0_col6\" class=\"data row0 col6\" >0.107</td> \n",
       "        <td id=\"T_22962e76_7c7c_11e9_938d_787b8added81row0_col7\" class=\"data row0 col7\" >0.130</td> \n",
       "        <td id=\"T_22962e76_7c7c_11e9_938d_787b8added81row0_col8\" class=\"data row0 col8\" >0.157</td> \n",
       "        <td id=\"T_22962e76_7c7c_11e9_938d_787b8added81row0_col9\" class=\"data row0 col9\" >0.154</td> \n",
       "        <td id=\"T_22962e76_7c7c_11e9_938d_787b8added81row0_col10\" class=\"data row0 col10\" >0.039</td> \n",
       "    </tr></tbody> \n",
       "</table> "
      ],
      "text/plain": [
       "<pandas.io.formats.style.Styler at 0x11f4fb9b0>"
      ]
     },
     "metadata": {},
     "output_type": "display_data"
    },
    {
     "name": "stdout",
     "output_type": "stream",
     "text": [
      "In Valence dimension...\n"
     ]
    },
    {
     "data": {
      "application/vnd.jupyter.widget-view+json": {
       "model_id": "d2e6f1e7f9d747ae911bc05ec5f38d20",
       "version_major": 2,
       "version_minor": 0
      },
      "text/plain": [
       "HBox(children=(IntProgress(value=0, description='regressors', max=9), HTML(value='')))"
      ]
     },
     "metadata": {},
     "output_type": "display_data"
    },
    {
     "name": "stdout",
     "output_type": "stream",
     "text": [
      "\n"
     ]
    },
    {
     "data": {
      "text/html": [
       "<style  type=\"text/css\" >\n",
       "    #T_5283a618_7c7c_11e9_b354_787b8added81row0_col4 {\n",
       "            background-color:  yellow;\n",
       "        }</style>  \n",
       "<table id=\"T_5283a618_7c7c_11e9_b354_787b8added81\" > \n",
       "<thead>    <tr> \n",
       "        <th class=\"blank level0\" ></th> \n",
       "        <th class=\"col_heading level0 col0\" >Lasso</th> \n",
       "        <th class=\"col_heading level0 col1\" >ElasticNet</th> \n",
       "        <th class=\"col_heading level0 col2\" >Ridge</th> \n",
       "        <th class=\"col_heading level0 col3\" >kNN</th> \n",
       "        <th class=\"col_heading level0 col4\" >SVRrbf</th> \n",
       "        <th class=\"col_heading level0 col5\" >SVRpoly</th> \n",
       "        <th class=\"col_heading level0 col6\" >SVRlinear</th> \n",
       "        <th class=\"col_heading level0 col7\" >DT</th> \n",
       "        <th class=\"col_heading level0 col8\" >RF</th> \n",
       "        <th class=\"col_heading level0 col9\" >Mean</th> \n",
       "        <th class=\"col_heading level0 col10\" >std</th> \n",
       "    </tr></thead> \n",
       "<tbody>    <tr> \n",
       "        <th id=\"T_5283a618_7c7c_11e9_b354_787b8added81level0_row0\" class=\"row_heading level0 row0\" >RMSE</th> \n",
       "        <td id=\"T_5283a618_7c7c_11e9_b354_787b8added81row0_col0\" class=\"data row0 col0\" >0.162</td> \n",
       "        <td id=\"T_5283a618_7c7c_11e9_b354_787b8added81row0_col1\" class=\"data row0 col1\" >0.162</td> \n",
       "        <td id=\"T_5283a618_7c7c_11e9_b354_787b8added81row0_col2\" class=\"data row0 col2\" >0.173</td> \n",
       "        <td id=\"T_5283a618_7c7c_11e9_b354_787b8added81row0_col3\" class=\"data row0 col3\" >0.135</td> \n",
       "        <td id=\"T_5283a618_7c7c_11e9_b354_787b8added81row0_col4\" class=\"data row0 col4\" >0.121</td> \n",
       "        <td id=\"T_5283a618_7c7c_11e9_b354_787b8added81row0_col5\" class=\"data row0 col5\" >0.197</td> \n",
       "        <td id=\"T_5283a618_7c7c_11e9_b354_787b8added81row0_col6\" class=\"data row0 col6\" >0.121</td> \n",
       "        <td id=\"T_5283a618_7c7c_11e9_b354_787b8added81row0_col7\" class=\"data row0 col7\" >0.140</td> \n",
       "        <td id=\"T_5283a618_7c7c_11e9_b354_787b8added81row0_col8\" class=\"data row0 col8\" >0.142</td> \n",
       "        <td id=\"T_5283a618_7c7c_11e9_b354_787b8added81row0_col9\" class=\"data row0 col9\" >0.150</td> \n",
       "        <td id=\"T_5283a618_7c7c_11e9_b354_787b8added81row0_col10\" class=\"data row0 col10\" >0.025</td> \n",
       "    </tr></tbody> \n",
       "</table> "
      ],
      "text/plain": [
       "<pandas.io.formats.style.Styler at 0x11f4fb400>"
      ]
     },
     "metadata": {},
     "output_type": "display_data"
    }
   ],
   "source": [
    "prefunc = [StandardScaler()]\n",
    "\n",
    "print('In Arousal dimension...')\n",
    "scores_f_a = cross_val_regression(regressors, fusion_features, arousal, prefunc)\n",
    "ipd.display(format_scores(scores_f_a))\n",
    "\n",
    "print('In Valence dimension...')\n",
    "scores_f_v = cross_val_regression(regressors, fusion_features, valence, prefunc)\n",
    "ipd.display(format_scores(scores_f_v))"
   ]
  },
  {
   "cell_type": "markdown",
   "metadata": {},
   "source": [
    "####  EDA + Lyric  Fusion"
   ]
  },
  {
   "cell_type": "code",
   "execution_count": 19,
   "metadata": {},
   "outputs": [],
   "source": [
    "eda_dataset = pd.read_csv('eda_dataset.csv').groupby(by=['musicId'], as_index=False).mean()\n",
    "lyric_text = pd.read_csv('lrc_dataset.csv').drop(columns=['Arousal(mean)', 'Valence(mean)'])\n",
    "\n",
    "fusion_dataset = pd.merge(eda_dataset, lyric_text, on=['musicId']).dropna()\n",
    "# fusion_dataset['lrc_text'] = fusion_dataset['lrc_text'].astype(str)\n",
    "fusion_features = fusion_dataset.drop(columns=['musicId', 'subjectId', 'Arousal(mean)', 'Valence(mean)'])\n",
    "arousal = fusion_dataset['Arousal(mean)']\n",
    "valence = fusion_dataset['Valence(mean)']"
   ]
  },
  {
   "cell_type": "code",
   "execution_count": 29,
   "metadata": {
    "cell_style": "center"
   },
   "outputs": [
    {
     "name": "stdout",
     "output_type": "stream",
     "text": [
      "In Arousal dimension...\n"
     ]
    },
    {
     "data": {
      "application/vnd.jupyter.widget-view+json": {
       "model_id": "",
       "version_major": 2,
       "version_minor": 0
      },
      "text/plain": [
       "HBox(children=(IntProgress(value=0, description='regressors', max=9), HTML(value='')))"
      ]
     },
     "metadata": {},
     "output_type": "display_data"
    },
    {
     "name": "stdout",
     "output_type": "stream",
     "text": [
      "\n"
     ]
    },
    {
     "data": {
      "text/html": [
       "<style  type=\"text/css\" >\n",
       "    #T_6ccd506c_7c42_11e9_8932_787b8added81row0_col8 {\n",
       "            background-color:  yellow;\n",
       "        }</style>  \n",
       "<table id=\"T_6ccd506c_7c42_11e9_8932_787b8added81\" > \n",
       "<thead>    <tr> \n",
       "        <th class=\"blank level0\" ></th> \n",
       "        <th class=\"col_heading level0 col0\" >Lasso</th> \n",
       "        <th class=\"col_heading level0 col1\" >ElasticNet</th> \n",
       "        <th class=\"col_heading level0 col2\" >Ridge</th> \n",
       "        <th class=\"col_heading level0 col3\" >kNN</th> \n",
       "        <th class=\"col_heading level0 col4\" >SVRrbf</th> \n",
       "        <th class=\"col_heading level0 col5\" >SVRpoly</th> \n",
       "        <th class=\"col_heading level0 col6\" >SVRlinear</th> \n",
       "        <th class=\"col_heading level0 col7\" >DT</th> \n",
       "        <th class=\"col_heading level0 col8\" >RF</th> \n",
       "        <th class=\"col_heading level0 col9\" >Mean</th> \n",
       "        <th class=\"col_heading level0 col10\" >std</th> \n",
       "    </tr></thead> \n",
       "<tbody>    <tr> \n",
       "        <th id=\"T_6ccd506c_7c42_11e9_8932_787b8added81level0_row0\" class=\"row_heading level0 row0\" >RMSE</th> \n",
       "        <td id=\"T_6ccd506c_7c42_11e9_8932_787b8added81row0_col0\" class=\"data row0 col0\" >0.184</td> \n",
       "        <td id=\"T_6ccd506c_7c42_11e9_8932_787b8added81row0_col1\" class=\"data row0 col1\" >0.184</td> \n",
       "        <td id=\"T_6ccd506c_7c42_11e9_8932_787b8added81row0_col2\" class=\"data row0 col2\" >0.183</td> \n",
       "        <td id=\"T_6ccd506c_7c42_11e9_8932_787b8added81row0_col3\" class=\"data row0 col3\" >0.193</td> \n",
       "        <td id=\"T_6ccd506c_7c42_11e9_8932_787b8added81row0_col4\" class=\"data row0 col4\" >0.185</td> \n",
       "        <td id=\"T_6ccd506c_7c42_11e9_8932_787b8added81row0_col5\" class=\"data row0 col5\" >0.183</td> \n",
       "        <td id=\"T_6ccd506c_7c42_11e9_8932_787b8added81row0_col6\" class=\"data row0 col6\" >0.188</td> \n",
       "        <td id=\"T_6ccd506c_7c42_11e9_8932_787b8added81row0_col7\" class=\"data row0 col7\" >0.194</td> \n",
       "        <td id=\"T_6ccd506c_7c42_11e9_8932_787b8added81row0_col8\" class=\"data row0 col8\" >0.183</td> \n",
       "        <td id=\"T_6ccd506c_7c42_11e9_8932_787b8added81row0_col9\" class=\"data row0 col9\" >0.186</td> \n",
       "        <td id=\"T_6ccd506c_7c42_11e9_8932_787b8added81row0_col10\" class=\"data row0 col10\" >0.004</td> \n",
       "    </tr></tbody> \n",
       "</table> "
      ],
      "text/plain": [
       "<pandas.io.formats.style.Styler at 0x121e40668>"
      ]
     },
     "metadata": {},
     "output_type": "display_data"
    },
    {
     "name": "stdout",
     "output_type": "stream",
     "text": [
      "In Valence dimension...\n"
     ]
    },
    {
     "data": {
      "application/vnd.jupyter.widget-view+json": {
       "model_id": "",
       "version_major": 2,
       "version_minor": 0
      },
      "text/plain": [
       "HBox(children=(IntProgress(value=0, description='regressors', max=9), HTML(value='')))"
      ]
     },
     "metadata": {},
     "output_type": "display_data"
    },
    {
     "name": "stdout",
     "output_type": "stream",
     "text": [
      "\n"
     ]
    },
    {
     "data": {
      "text/html": [
       "<style  type=\"text/css\" >\n",
       "    #T_bb9ba4a8_7c42_11e9_ada6_787b8added81row0_col2 {\n",
       "            background-color:  yellow;\n",
       "        }</style>  \n",
       "<table id=\"T_bb9ba4a8_7c42_11e9_ada6_787b8added81\" > \n",
       "<thead>    <tr> \n",
       "        <th class=\"blank level0\" ></th> \n",
       "        <th class=\"col_heading level0 col0\" >Lasso</th> \n",
       "        <th class=\"col_heading level0 col1\" >ElasticNet</th> \n",
       "        <th class=\"col_heading level0 col2\" >Ridge</th> \n",
       "        <th class=\"col_heading level0 col3\" >kNN</th> \n",
       "        <th class=\"col_heading level0 col4\" >SVRrbf</th> \n",
       "        <th class=\"col_heading level0 col5\" >SVRpoly</th> \n",
       "        <th class=\"col_heading level0 col6\" >SVRlinear</th> \n",
       "        <th class=\"col_heading level0 col7\" >DT</th> \n",
       "        <th class=\"col_heading level0 col8\" >RF</th> \n",
       "        <th class=\"col_heading level0 col9\" >Mean</th> \n",
       "        <th class=\"col_heading level0 col10\" >std</th> \n",
       "    </tr></thead> \n",
       "<tbody>    <tr> \n",
       "        <th id=\"T_bb9ba4a8_7c42_11e9_ada6_787b8added81level0_row0\" class=\"row_heading level0 row0\" >RMSE</th> \n",
       "        <td id=\"T_bb9ba4a8_7c42_11e9_ada6_787b8added81row0_col0\" class=\"data row0 col0\" >0.160</td> \n",
       "        <td id=\"T_bb9ba4a8_7c42_11e9_ada6_787b8added81row0_col1\" class=\"data row0 col1\" >0.160</td> \n",
       "        <td id=\"T_bb9ba4a8_7c42_11e9_ada6_787b8added81row0_col2\" class=\"data row0 col2\" >0.146</td> \n",
       "        <td id=\"T_bb9ba4a8_7c42_11e9_ada6_787b8added81row0_col3\" class=\"data row0 col3\" >0.169</td> \n",
       "        <td id=\"T_bb9ba4a8_7c42_11e9_ada6_787b8added81row0_col4\" class=\"data row0 col4\" >0.161</td> \n",
       "        <td id=\"T_bb9ba4a8_7c42_11e9_ada6_787b8added81row0_col5\" class=\"data row0 col5\" >0.159</td> \n",
       "        <td id=\"T_bb9ba4a8_7c42_11e9_ada6_787b8added81row0_col6\" class=\"data row0 col6\" >0.149</td> \n",
       "        <td id=\"T_bb9ba4a8_7c42_11e9_ada6_787b8added81row0_col7\" class=\"data row0 col7\" >0.156</td> \n",
       "        <td id=\"T_bb9ba4a8_7c42_11e9_ada6_787b8added81row0_col8\" class=\"data row0 col8\" >0.159</td> \n",
       "        <td id=\"T_bb9ba4a8_7c42_11e9_ada6_787b8added81row0_col9\" class=\"data row0 col9\" >0.158</td> \n",
       "        <td id=\"T_bb9ba4a8_7c42_11e9_ada6_787b8added81row0_col10\" class=\"data row0 col10\" >0.007</td> \n",
       "    </tr></tbody> \n",
       "</table> "
      ],
      "text/plain": [
       "<pandas.io.formats.style.Styler at 0x11b694ef0>"
      ]
     },
     "metadata": {},
     "output_type": "display_data"
    }
   ],
   "source": [
    "ct = ColumnTransformer(\n",
    "    [('stemmedtf-idf', StemmedTfidfVectorizer(sublinear_tf=True, max_df=0.5, stop_words='english'), 'lrc_text'),\n",
    "     (\"norm2\", StandardScaler(), slice(0, 128))])\n",
    "\n",
    "print('In Arousal dimension...')\n",
    "scores_f_a = cross_val_regression(regressors, fusion_features, arousal, [ct])\n",
    "ipd.display(format_scores(scores_f_a))\n",
    "\n",
    "print('In Valence dimension...')\n",
    "scores_f_v = cross_val_regression(regressors, fusion_features, valence, [ct])\n",
    "ipd.display(format_scores(scores_f_v))"
   ]
  },
  {
   "cell_type": "markdown",
   "metadata": {},
   "source": [
    "####  Audio + EDA + Lyric  Fusion"
   ]
  },
  {
   "cell_type": "code",
   "execution_count": 21,
   "metadata": {},
   "outputs": [],
   "source": [
    "eda_dataset = pd.read_csv('eda_dataset.csv').groupby(by=['musicId'], as_index=False).mean()\n",
    "lyric_text = pd.read_csv('lrc_dataset.csv').drop(columns=['Arousal(mean)', 'Valence(mean)'])\n",
    "audio_features = load_static_features()\n",
    "\n",
    "fusion_dataset = pd.merge(eda_dataset, audio_features, on=['musicId'])\n",
    "fusion_dataset = pd.merge(fusion_dataset, lyric_text, on=['musicId']).dropna()\n",
    "# fusion_dataset['lrc_text'] = fusion_dataset['lrc_text'].astype(str)\n",
    "fusion_features = fusion_dataset.drop(columns=['musicId', 'subjectId', 'Arousal(mean)', 'Valence(mean)'])\n",
    "arousal = fusion_dataset['Arousal(mean)']\n",
    "valence = fusion_dataset['Valence(mean)']"
   ]
  },
  {
   "cell_type": "code",
   "execution_count": 32,
   "metadata": {
    "cell_style": "center"
   },
   "outputs": [
    {
     "name": "stdout",
     "output_type": "stream",
     "text": [
      "In Arousal dimension...\n"
     ]
    },
    {
     "data": {
      "application/vnd.jupyter.widget-view+json": {
       "model_id": "",
       "version_major": 2,
       "version_minor": 0
      },
      "text/plain": [
       "HBox(children=(IntProgress(value=0, description='regressors', max=9), HTML(value='')))"
      ]
     },
     "metadata": {},
     "output_type": "display_data"
    },
    {
     "name": "stdout",
     "output_type": "stream",
     "text": [
      "\n"
     ]
    },
    {
     "data": {
      "text/html": [
       "<style  type=\"text/css\" >\n",
       "    #T_a6a2f1e2_7c43_11e9_9b29_787b8added81row0_col6 {\n",
       "            background-color:  yellow;\n",
       "        }</style>  \n",
       "<table id=\"T_a6a2f1e2_7c43_11e9_9b29_787b8added81\" > \n",
       "<thead>    <tr> \n",
       "        <th class=\"blank level0\" ></th> \n",
       "        <th class=\"col_heading level0 col0\" >Lasso</th> \n",
       "        <th class=\"col_heading level0 col1\" >ElasticNet</th> \n",
       "        <th class=\"col_heading level0 col2\" >Ridge</th> \n",
       "        <th class=\"col_heading level0 col3\" >kNN</th> \n",
       "        <th class=\"col_heading level0 col4\" >SVRrbf</th> \n",
       "        <th class=\"col_heading level0 col5\" >SVRpoly</th> \n",
       "        <th class=\"col_heading level0 col6\" >SVRlinear</th> \n",
       "        <th class=\"col_heading level0 col7\" >DT</th> \n",
       "        <th class=\"col_heading level0 col8\" >RF</th> \n",
       "        <th class=\"col_heading level0 col9\" >Mean</th> \n",
       "        <th class=\"col_heading level0 col10\" >std</th> \n",
       "    </tr></thead> \n",
       "<tbody>    <tr> \n",
       "        <th id=\"T_a6a2f1e2_7c43_11e9_9b29_787b8added81level0_row0\" class=\"row_heading level0 row0\" >RMSE</th> \n",
       "        <td id=\"T_a6a2f1e2_7c43_11e9_9b29_787b8added81row0_col0\" class=\"data row0 col0\" >0.184</td> \n",
       "        <td id=\"T_a6a2f1e2_7c43_11e9_9b29_787b8added81row0_col1\" class=\"data row0 col1\" >0.184</td> \n",
       "        <td id=\"T_a6a2f1e2_7c43_11e9_9b29_787b8added81row0_col2\" class=\"data row0 col2\" >0.145</td> \n",
       "        <td id=\"T_a6a2f1e2_7c43_11e9_9b29_787b8added81row0_col3\" class=\"data row0 col3\" >0.136</td> \n",
       "        <td id=\"T_a6a2f1e2_7c43_11e9_9b29_787b8added81row0_col4\" class=\"data row0 col4\" >0.117</td> \n",
       "        <td id=\"T_a6a2f1e2_7c43_11e9_9b29_787b8added81row0_col5\" class=\"data row0 col5\" >0.266</td> \n",
       "        <td id=\"T_a6a2f1e2_7c43_11e9_9b29_787b8added81row0_col6\" class=\"data row0 col6\" >0.109</td> \n",
       "        <td id=\"T_a6a2f1e2_7c43_11e9_9b29_787b8added81row0_col7\" class=\"data row0 col7\" >0.133</td> \n",
       "        <td id=\"T_a6a2f1e2_7c43_11e9_9b29_787b8added81row0_col8\" class=\"data row0 col8\" >0.164</td> \n",
       "        <td id=\"T_a6a2f1e2_7c43_11e9_9b29_787b8added81row0_col9\" class=\"data row0 col9\" >0.160</td> \n",
       "        <td id=\"T_a6a2f1e2_7c43_11e9_9b29_787b8added81row0_col10\" class=\"data row0 col10\" >0.048</td> \n",
       "    </tr></tbody> \n",
       "</table> "
      ],
      "text/plain": [
       "<pandas.io.formats.style.Styler at 0x11b664c88>"
      ]
     },
     "metadata": {},
     "output_type": "display_data"
    },
    {
     "name": "stdout",
     "output_type": "stream",
     "text": [
      "In Valence dimension...\n"
     ]
    },
    {
     "data": {
      "application/vnd.jupyter.widget-view+json": {
       "model_id": "",
       "version_major": 2,
       "version_minor": 0
      },
      "text/plain": [
       "HBox(children=(IntProgress(value=0, description='regressors', max=9), HTML(value='')))"
      ]
     },
     "metadata": {},
     "output_type": "display_data"
    },
    {
     "name": "stdout",
     "output_type": "stream",
     "text": [
      "\n"
     ]
    },
    {
     "data": {
      "text/html": [
       "<style  type=\"text/css\" >\n",
       "    #T_34b0afec_7c44_11e9_8944_787b8added81row0_col6 {\n",
       "            background-color:  yellow;\n",
       "        }</style>  \n",
       "<table id=\"T_34b0afec_7c44_11e9_8944_787b8added81\" > \n",
       "<thead>    <tr> \n",
       "        <th class=\"blank level0\" ></th> \n",
       "        <th class=\"col_heading level0 col0\" >Lasso</th> \n",
       "        <th class=\"col_heading level0 col1\" >ElasticNet</th> \n",
       "        <th class=\"col_heading level0 col2\" >Ridge</th> \n",
       "        <th class=\"col_heading level0 col3\" >kNN</th> \n",
       "        <th class=\"col_heading level0 col4\" >SVRrbf</th> \n",
       "        <th class=\"col_heading level0 col5\" >SVRpoly</th> \n",
       "        <th class=\"col_heading level0 col6\" >SVRlinear</th> \n",
       "        <th class=\"col_heading level0 col7\" >DT</th> \n",
       "        <th class=\"col_heading level0 col8\" >RF</th> \n",
       "        <th class=\"col_heading level0 col9\" >Mean</th> \n",
       "        <th class=\"col_heading level0 col10\" >std</th> \n",
       "    </tr></thead> \n",
       "<tbody>    <tr> \n",
       "        <th id=\"T_34b0afec_7c44_11e9_8944_787b8added81level0_row0\" class=\"row_heading level0 row0\" >RMSE</th> \n",
       "        <td id=\"T_34b0afec_7c44_11e9_8944_787b8added81row0_col0\" class=\"data row0 col0\" >0.160</td> \n",
       "        <td id=\"T_34b0afec_7c44_11e9_8944_787b8added81row0_col1\" class=\"data row0 col1\" >0.160</td> \n",
       "        <td id=\"T_34b0afec_7c44_11e9_8944_787b8added81row0_col2\" class=\"data row0 col2\" >0.148</td> \n",
       "        <td id=\"T_34b0afec_7c44_11e9_8944_787b8added81row0_col3\" class=\"data row0 col3\" >0.130</td> \n",
       "        <td id=\"T_34b0afec_7c44_11e9_8944_787b8added81row0_col4\" class=\"data row0 col4\" >0.119</td> \n",
       "        <td id=\"T_34b0afec_7c44_11e9_8944_787b8added81row0_col5\" class=\"data row0 col5\" >0.366</td> \n",
       "        <td id=\"T_34b0afec_7c44_11e9_8944_787b8added81row0_col6\" class=\"data row0 col6\" >0.118</td> \n",
       "        <td id=\"T_34b0afec_7c44_11e9_8944_787b8added81row0_col7\" class=\"data row0 col7\" >0.155</td> \n",
       "        <td id=\"T_34b0afec_7c44_11e9_8944_787b8added81row0_col8\" class=\"data row0 col8\" >0.145</td> \n",
       "        <td id=\"T_34b0afec_7c44_11e9_8944_787b8added81row0_col9\" class=\"data row0 col9\" >0.167</td> \n",
       "        <td id=\"T_34b0afec_7c44_11e9_8944_787b8added81row0_col10\" class=\"data row0 col10\" >0.076</td> \n",
       "    </tr></tbody> \n",
       "</table> "
      ],
      "text/plain": [
       "<pandas.io.formats.style.Styler at 0x11b823390>"
      ]
     },
     "metadata": {},
     "output_type": "display_data"
    }
   ],
   "source": [
    "ct = ColumnTransformer(\n",
    "    [('stemmedtf-idf', StemmedTfidfVectorizer(sublinear_tf=True, max_df=0.5, stop_words='english'), 'lrc_text'),\n",
    "     (\"norm2\", StandardScaler(), slice(0, 128+6373))])\n",
    "\n",
    "print('In Arousal dimension...')\n",
    "scores_f_a = cross_val_regression(regressors, fusion_features, arousal, [ct])\n",
    "ipd.display(format_scores(scores_f_a))\n",
    "\n",
    "print('In Valence dimension...')\n",
    "scores_f_v = cross_val_regression(regressors, fusion_features, valence, [ct])\n",
    "ipd.display(format_scores(scores_f_v))"
   ]
  }
 ],
 "metadata": {
  "kernelspec": {
   "display_name": "Python 3",
   "language": "python",
   "name": "python3"
  },
  "language_info": {
   "codemirror_mode": {
    "name": "ipython",
    "version": 3
   },
   "file_extension": ".py",
   "mimetype": "text/x-python",
   "name": "python",
   "nbconvert_exporter": "python",
   "pygments_lexer": "ipython3",
   "version": "3.6.4"
  },
  "toc": {
   "base_numbering": 1,
   "nav_menu": {},
   "number_sections": true,
   "sideBar": true,
   "skip_h1_title": true,
   "title_cell": "Table of Contents",
   "title_sidebar": "Contents",
   "toc_cell": false,
   "toc_position": {
    "height": "calc(100% - 180px)",
    "left": "10px",
    "top": "150px",
    "width": "410px"
   },
   "toc_section_display": true,
   "toc_window_display": true
  }
 },
 "nbformat": 4,
 "nbformat_minor": 2
}
