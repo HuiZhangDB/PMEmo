{
 "cells": [
  {
   "cell_type": "code",
   "execution_count": 1,
   "metadata": {},
   "outputs": [],
   "source": [
    "# load .env variables\n",
    "from dotenv import load_dotenv\n",
    "load_dotenv()\n",
    "import os\n",
    "DATASET_DIR = os.getenv(\"DATASET_DIR\")"
   ]
  },
  {
   "cell_type": "code",
   "execution_count": 2,
   "metadata": {},
   "outputs": [],
   "source": [
    "import csv\n",
    "import pandas as pd\n",
    "\n",
    "def _read_dynamic_mean(datapath):\n",
    "    \n",
    "    fs = 2 # sampling rate of dynamic annotation\n",
    "    num_omitted = fs * 0 # already omitted\n",
    "\n",
    "    data = {}\n",
    "    with open(datapath) as csvfile:\n",
    "        reader = csv.reader(csvfile)\n",
    "        next(reader)\n",
    "        for row in reader:\n",
    "            # skip music with too-short length\n",
    "            if len(row)-1 <= num_omitted: \n",
    "                continue\n",
    "            f_in_this_row = []\n",
    "            for i in range(len(row)-1-num_omitted):\n",
    "                f_in_this_row.append(float(row[i+1+num_omitted]))\n",
    "            data[row[0]] = f_in_this_row\n",
    "    return data\n",
    "\n",
    "def _get_features_with_dylabel(features, label_type, dylabels):\n",
    "\n",
    "    feature_fs = 2 # sampling rate of dynamic annotation\n",
    "    features[0].append(label_type) # last column name is the label name\n",
    "\n",
    "    index_without_dylabel = []\n",
    "\n",
    "    for i in range(len(features)-1):\n",
    "        musicId = features[i+1][0]\n",
    "        time_index = float(features[i+1][1]) * feature_fs\n",
    "        try:\n",
    "            dy_for_this_song = dylabels[str(musicId)]\n",
    "        except KeyError:\n",
    "            index_without_dylabel.append(i+1)\n",
    "            continue\n",
    "        try:\n",
    "            dy_for_this_point = dy_for_this_song[int(time_index)]\n",
    "            features[i + 1].append(dy_for_this_point)\n",
    "        except IndexError:\n",
    "            index_without_dylabel.append(i+1)\n",
    "    \n",
    "    for i in range(len(index_without_dylabel)):\n",
    "        # delete features without label. Attension: after deleting, the index behind will minus 1.\n",
    "        index = index_without_dylabel[i] - i\n",
    "        features.pop(index)\n",
    "\n",
    "    return pd.DataFrame(data=features[1:], columns=features[0])\n",
    "\n",
    "def load_dynamic_features_and_labels(label_type):\n",
    "    if label_type == 'valence':\n",
    "        labels = _read_dynamic_mean(os.path.join(DATASET_DIR, 'V_dynamic_mean.csv'))\n",
    "    elif label_type == 'arousal':\n",
    "        labels = _read_dynamic_mean(os.path.join(DATASET_DIR, 'A_dynamic_mean.csv'))\n",
    "    else:\n",
    "        raise(Exception)\n",
    "                                   \n",
    "    features = []\n",
    "    with open(os.path.join(DATASET_DIR, 'dynamic_features.csv')) as f:\n",
    "        reader = csv.reader(f)\n",
    "        for row in reader:\n",
    "            features.append(row)\n",
    "\n",
    "    features_and_label = _get_features_with_dylabel(features, label_type, labels)\n",
    "    return features_and_label  \n"
   ]
  },
  {
   "cell_type": "code",
   "execution_count": 4,
   "metadata": {},
   "outputs": [],
   "source": [
    "from sklearn.utils import shuffle\n",
    "from math import sqrt, floor\n",
    "from sklearn.svm import SVR\n",
    "from sklearn.metrics import mean_squared_error, r2_score\n",
    "from scipy.stats import pearsonr\n",
    "\n",
    "def _get_train_test_data(data):\n",
    "    data = shuffle(data)\n",
    "    features = data[data.columns[2:-1]].values\n",
    "    labels = data[data.columns[-1]].values\n",
    "\n",
    "    n_samples = labels.shape[0]\n",
    "    train_num = floor(n_samples*10/11)\n",
    "\n",
    "    X_train, X_test, y_train, y_test = features[:train_num], features[train_num:], labels[:train_num], labels[train_num:]\n",
    "    return X_train, X_test, y_train, y_test\n",
    "\n",
    "def train_and_test(data):\n",
    "    X_train, X_test, y_train, y_test = _get_train_test_data(data)\n",
    "    \n",
    "    clf = SVR(kernel='rbf', gamma='scale',C=1.0, epsilon=0.2)\n",
    "    clf.fit(X_train, y_train)\n",
    "    y_pred = clf.predict(X_test)\n",
    "    rmse = sqrt(mean_squared_error(y_test, y_pred))\n",
    "    r2 = r2_score(y_test, y_pred)\n",
    "    r, p = pearsonr(y_test, y_pred)\n",
    "    print(f'RMSE: {rmse}, R: {r}')"
   ]
  },
  {
   "cell_type": "code",
   "execution_count": 5,
   "metadata": {},
   "outputs": [
    {
     "name": "stdout",
     "output_type": "stream",
     "text": [
      "In Valence dimension, local result...\n",
      "RMSE: 0.16370525985080106, R: 0.13568560665668175\n",
      "In Arousal dimension, local result...\n",
      "RMSE: 0.17523943209680515, R: 0.23438263514062022\n"
     ]
    }
   ],
   "source": [
    "data_v = load_dynamic_features_and_labels('valence')\n",
    "data_a = load_dynamic_features_and_labels('arousal')\n",
    "\n",
    "print('In Valence dimension, local result...')\n",
    "train_and_test(data_v)\n",
    "\n",
    "print('In Arousal dimension, local result...')\n",
    "train_and_test(data_a)\n"
   ]
  }
 ],
 "metadata": {
  "kernelspec": {
   "display_name": "Python 3",
   "language": "python",
   "name": "python3"
  },
  "language_info": {
   "codemirror_mode": {
    "name": "ipython",
    "version": 3
   },
   "file_extension": ".py",
   "mimetype": "text/x-python",
   "name": "python",
   "nbconvert_exporter": "python",
   "pygments_lexer": "ipython3",
   "version": "3.6.4"
  }
 },
 "nbformat": 4,
 "nbformat_minor": 2
}
