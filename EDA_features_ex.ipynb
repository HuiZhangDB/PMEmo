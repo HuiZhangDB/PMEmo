{
 "cells": [
  {
   "cell_type": "markdown",
   "metadata": {},
   "source": [
    "# Extract EDA Features for Static/Dynamic MER"
   ]
  },
  {
   "cell_type": "code",
   "execution_count": 1,
   "metadata": {},
   "outputs": [],
   "source": [
    "import pandas as pd\n",
    "import matplotlib.pyplot as plt\n",
    "import os\n",
    "import numpy as np\n",
    "import neurokit as nk\n",
    "from scipy import stats\n",
    "from tqdm import tqdm_notebook\n",
    "from sklearn.preprocessing import minmax_scale, scale\n",
    "from scipy.stats import kurtosis, skew\n",
    "from librosa.feature import mfcc"
   ]
  },
  {
   "cell_type": "code",
   "execution_count": 1,
   "metadata": {},
   "outputs": [],
   "source": [
    "def window_with_overlap(a, window, stride):\n",
    "    nrows = ((a.size-window)//stride)+1\n",
    "    n = a.strides[0]\n",
    "    return np.lib.stride_tricks.as_strided(a, shape=(nrows,window), strides=(stride*n,n))\n",
    "\n",
    "def scr_features(times, phasic, SCR_Onsets, SCR_Peaks_Indexes, SCR_Peaks_Amplitudes):\n",
    "    features = {}\n",
    "    features['peakCount'] = len(SCR_Peaks_Indexes)\n",
    "    features['meanpeakAmplitude'] = np.mean(SCR_Peaks_Amplitudes)\n",
    "    RiseTime =  times[SCR_Peaks_Indexes] - times[SCR_Onsets]\n",
    "    features['MeanRiseTime'] = np.mean(RiseTime)\n",
    "    features['SumPeakAmplitude'] = np.sum(SCR_Peaks_Amplitudes)\n",
    "    features['SumRiseTime'] = np.sum(RiseTime)\n",
    "    features['SumAreas'] = np.trapz(phasic, x=times)\n",
    "    return features\n",
    "\n",
    "def time_domain_stats(times, signal):\n",
    "    features = {}\n",
    "    features['auc'] = np.trapz(signal, x=times)\n",
    "    features['meanEDA'] = np.mean(signal)\n",
    "    features['stdEDA'] = np.std(signal)\n",
    "    features['kurtEDA'] = kurtosis(signal)\n",
    "    features['skewEDA'] = skew(signal)\n",
    "    features['meanDerivative'] = np.mean(np.gradient(signal))\n",
    "    features['meanNegativeDerivative'] = np.mean((0-np.gradient(signal)))\n",
    "    return features\n",
    "\n",
    "def frequency_domain_stats(frequency_signal, frequency):\n",
    "    features = {}\n",
    "    features['SMA_f'] = np.trapz(np.abs(frequency_signal), x=frequency)\n",
    "    features['meanEDA_f'] = np.mean(frequency_signal)\n",
    "    features['stdEDA_f'] = np.std(frequency_signal)\n",
    "    features['signalRange_f'] = frequency_signal.max() - frequency_signal.min()\n",
    "    features['kurtEDA_f'] = kurtosis(frequency_signal)\n",
    "    features['skewEDA_f'] = skew(frequency_signal)\n",
    "#     FrequencyDomain_Statistical['harmonicsSummation']\n",
    "    return features\n",
    "\n",
    "def band_power(frequency_signal, frequency):\n",
    "    features = {}\n",
    "    signal_inbands = frequency_signal[(frequency>=0) & (frequency<=0.5)]\n",
    "    features['signalEnergy'] = np.sum(np.abs(signal_inbands)**2)\n",
    "    band1 = frequency_signal[(frequency>=0) & (frequency<0.1)]\n",
    "    band2 = frequency_signal[(frequency>=0.1) & (frequency<0.2)]\n",
    "    band3 = frequency_signal[(frequency>=0.2) & (frequency<0.3)]\n",
    "    band4 = frequency_signal[(frequency>=0.3) & (frequency<0.4)]\n",
    "    band5 = frequency_signal[(frequency>=0.4) & (frequency<=0.5)]\n",
    "    bands = [band1, band2, band3, band4, band5]\n",
    "    bands_sp = np.zeros(len(bands))\n",
    "    for i, b in enumerate(bands):\n",
    "        sp = np.sum(b**2)\n",
    "        bands_sp[i] = sp\n",
    "        features['SpectralPower_band'+str(i+1)] = sp\n",
    "    features['minSpectralPower'] = np.min(bands_sp)\n",
    "    features['maxSpectralPower'] = np.max(bands_sp)\n",
    "    features['varSpectralPower'] = np.var(bands_sp)\n",
    "    \n",
    "    return features\n",
    "\n",
    "        \n",
    "def extract_eda_features(raw_eda, sampleRate=50, ifDynamic=False, window=50, stride=25):\n",
    "    normalized_data = minmax_scale(raw_eda.reshape(-1, 1)).reshape(-1,)\n",
    "    processed_results = nk.eda_process(normalized_data, sampling_rate=sampleRate)\n",
    "\n",
    "    filtered_eda = processed_results['df']['EDA_Filtered']\n",
    "    tonic = processed_results['df']['EDA_Tonic']\n",
    "    phasic = processed_results['df']['EDA_Phasic']\n",
    "    \n",
    "    SCR_Onsets = processed_results['EDA']['SCR_Onsets']\n",
    "    SCR_Peaks_Indexes  = processed_results['EDA']['SCR_Peaks_Indexes']\n",
    "    SCR_Recovery_Indexes = processed_results['EDA']['SCR_Recovery_Indexes']\n",
    "    SCR_Peaks_Amplitudes = processed_results['EDA']['SCR_Peaks_Amplitudes']\n",
    "    \n",
    "    signal = phasic\n",
    "    times = np.arange(len(signal))/sampleRate\n",
    "\n",
    "    features = pd.DataFrame()\n",
    "    \n",
    "    # static features 33 dimension\n",
    "    if not ifDynamic:\n",
    "        eda_features = {}\n",
    "        # Time Domain: SCR Features, Statistical Features\n",
    "        SCR_Features = scr_features(times, phasic, SCR_Onsets, \n",
    "                                    SCR_Peaks_Indexes, SCR_Peaks_Amplitudes)\n",
    "        \n",
    "        TimeStats = time_domain_stats(times, signal)\n",
    "        # Frequency Domain: Statistical Features, Band Power\n",
    "        frequency_signal = np.abs(np.fft.fft(signal))\n",
    "        frequency = np.fft.fftfreq(signal.size, d=1/sampleRate)\n",
    "        FrequencyStats = frequency_domain_stats(frequency_signal, frequency)\n",
    "        BandPower = band_power(frequency_signal, frequency)\n",
    "        \n",
    "        eda_features.update(SCR_Features)\n",
    "        eda_features.update(TimeStats)\n",
    "        eda_features.update(FrequencyStats)\n",
    "        eda_features.update(BandPower)\n",
    "        \n",
    "        # Time-Frequency Domain: MFCC Features\n",
    "        n_mfcc = 20\n",
    "        mfccCoefficients = mfcc(signal.values, sr=sampleRate, n_mfcc=n_mfcc)\n",
    "        for i in range(n_mfcc):\n",
    "            mfccCoef = mfccCoefficients[i,:]\n",
    "            eda_features[f'meanMFCC[{i}]'] = np.mean(mfccCoef)\n",
    "            eda_features[f'stdMFCC[{i}]'] = np.std(mfccCoef)\n",
    "            eda_features[f'medianMFCC[{i}]'] = np.median(mfccCoef)\n",
    "            eda_features[f'kurtMFCC[{i}]'] = kurtosis(mfccCoef.reshape(-1,))\n",
    "            eda_features[f'skewMFCC[{i}]'] = skew(mfccCoef.reshape(-1,))\n",
    "        features = pd.DataFrame(data=eda_features, index=[0])\n",
    "        \n",
    "    else: # dynamic features\n",
    "        frames = window_with_overlap(signal, window, stride)\n",
    "        time_frames = window_with_overlap(times, window, stride)\n",
    "        \n",
    "        for fidx, frame in enumerate(frames):\n",
    "            eda_features = {}\n",
    "            frame_time = fidx*0.5+1\n",
    "            times = time_frames[fidx]\n",
    "            eda_features['frameTime'] = frame_time\n",
    "        \n",
    "            # Time Domain: Statistical Features\n",
    "            TimeStats = time_domain_stats(times, frame)\n",
    "            \n",
    "            # Frequency Domain: Statistical Features, Band Power\n",
    "            frequency_signal = np.abs(np.fft.fft(frame))\n",
    "            frequency = np.fft.fftfreq(frame.size, d=1/sampleRate)\n",
    "            FrequencyStats = frequency_domain_stats(frequency_signal, frequency)\n",
    "            BandPower = band_power(frequency_signal, frequency)\n",
    "\n",
    "            eda_features.update(TimeStats)\n",
    "            eda_features.update(FrequencyStats)\n",
    "            eda_features.update(BandPower)   \n",
    "\n",
    "            # Time-Frequency Domain: MFCC Features\n",
    "            n_mfcc = 20\n",
    "            mfccCoefficients = mfcc(frame, sr=sampleRate, n_mfcc=n_mfcc).reshape(-1,)\n",
    "            for i in range(mfccCoefficients.size):\n",
    "                eda_features[f'mfccCoefficient[{i}]'] = mfccCoefficients[i]\n",
    "            eda_features['meanMFCC'] = np.mean(mfccCoefficients)\n",
    "            eda_features['stdMFCC'] = np.std(mfccCoefficients)\n",
    "            eda_features['medianMFCC'] = np.median(mfccCoefficients)\n",
    "            eda_features['kurtMFCC'] = kurtosis(mfccCoefficients.reshape(-1,))\n",
    "            eda_features['skewMFCC'] = skew(mfccCoefficients.reshape(-1,))\n",
    "            features = features.append(pd.DataFrame(data=eda_features, index=[i]))\n",
    "        \n",
    "    return features\n"
   ]
  },
  {
   "cell_type": "markdown",
   "metadata": {},
   "source": [
    "## Compute the static EDA features for songs"
   ]
  },
  {
   "cell_type": "code",
   "execution_count": 5,
   "metadata": {
    "scrolled": true
   },
   "outputs": [
    {
     "data": {
      "application/vnd.jupyter.widget-view+json": {
       "model_id": "5f5acb44c0454eefa7a20fcdac373ea6",
       "version_major": 2,
       "version_minor": 0
      },
      "text/plain": [
       "HBox(children=(IntProgress(value=0, max=794), HTML(value='')))"
      ]
     },
     "metadata": {},
     "output_type": "display_data"
    },
    {
     "name": "stderr",
     "output_type": "stream",
     "text": [
      "/Users/huizhang/miniconda3/lib/python3.6/site-packages/numpy/core/fromnumeric.py:2957: RuntimeWarning: Mean of empty slice.\n",
      "  out=out, **kwargs)\n",
      "/Users/huizhang/miniconda3/lib/python3.6/site-packages/numpy/core/_methods.py:80: RuntimeWarning: invalid value encountered in double_scalars\n",
      "  ret = ret.dtype.type(ret / rcount)\n"
     ]
    },
    {
     "name": "stdout",
     "output_type": "stream",
     "text": [
      "\n"
     ]
    }
   ],
   "source": [
    "dir_path = '/Users/huizhang/Desktop/PMEmo2.0/dataset2.0/eda/eda'\n",
    "eda_files = [f for f in os.listdir(dir_path) if f[-4:]=='.csv']\n",
    "results = pd.DataFrame()\n",
    "# window = 50\n",
    "# stride = 25\n",
    "for f in tqdm_notebook(eda_files):\n",
    "# for f in ['1_EDA.csv', '4_EDA.csv']:\n",
    "    musicId = f.split('_')[0]\n",
    "    raw_eda = pd.read_csv(os.path.join(dir_path, f), index_col=0)\n",
    "#     row_num, col_num = raw_eda.shape[0], raw_eda.shape[1]-1\n",
    "\n",
    "    for c in raw_eda.columns:\n",
    "        subjectId = c[-6:]\n",
    "        features = extract_eda_features(raw_eda[c].values)\n",
    "        features['subjectId'] = subjectId\n",
    "        features['musicId'] = musicId\n",
    "        results = results.append(features)\n",
    "\n",
    "results.fillna(0)\n",
    "results.to_csv('EDA_features_static.csv', index=False, columns=['subjectId', 'musicId']+list(results.columns[:-2]))"
   ]
  },
  {
   "cell_type": "code",
   "execution_count": 6,
   "metadata": {
    "scrolled": true
   },
   "outputs": [],
   "source": [
    "eda_feature_set = pd.read_csv('EDA_features_static.csv')\n",
    "static_labels = pd.read_csv('static_annotations.csv')\n",
    "eda_dataset = pd.merge(eda_feature_set, static_labels, on=['musicId']).dropna()\n",
    "eda_dataset.to_csv('eda_dataset.csv', index=False)"
   ]
  },
  {
   "cell_type": "markdown",
   "metadata": {},
   "source": [
    "## Compute the dynamic EDA features for songs"
   ]
  },
  {
   "cell_type": "code",
   "execution_count": 3,
   "metadata": {},
   "outputs": [
    {
     "data": {
      "application/vnd.jupyter.widget-view+json": {
       "model_id": "88fb4cf990a440dfabc8da4ef356e973",
       "version_major": 2,
       "version_minor": 0
      },
      "text/plain": [
       "HBox(children=(IntProgress(value=0, max=794), HTML(value='')))"
      ]
     },
     "metadata": {},
     "output_type": "display_data"
    },
    {
     "name": "stdout",
     "output_type": "stream",
     "text": [
      "\n"
     ]
    }
   ],
   "source": [
    "import warnings\n",
    "warnings.filterwarnings(\"ignore\", category=FutureWarning)\n",
    "\n",
    "dir_path = '/Users/huizhang/Desktop/PMEmo2.0/dataset2.0/eda/eda'\n",
    "eda_files = [f for f in os.listdir(dir_path) if f[-4:]=='.csv']\n",
    "results = pd.DataFrame()\n",
    "\n",
    "# window = 50\n",
    "# stride = 25\n",
    "\n",
    "for f in tqdm_notebook(eda_files):\n",
    "# for f in ['1_EDA.csv', '4_EDA.csv']:\n",
    "    musicId = f.split('_')[0]\n",
    "    raw_eda = pd.read_csv(os.path.join(dir_path, f), index_col=0)\n",
    "\n",
    "    for c in raw_eda.columns:\n",
    "        subjectId = c\n",
    "        features = extract_eda_features(raw_eda[c].values, ifDynamic=True)\n",
    "        features['subjectId'] = subjectId\n",
    "        features['musicId'] = musicId\n",
    "        results = results.append(features)\n",
    "\n",
    "results.fillna(0)\n",
    "results.to_csv('EDA_features_dynamic.csv', index=False, columns=['subjectId', 'musicId']+list(results.columns[:-2]))"
   ]
  }
 ],
 "metadata": {
  "kernelspec": {
   "display_name": "Python 3",
   "language": "python",
   "name": "python3"
  },
  "language_info": {
   "codemirror_mode": {
    "name": "ipython",
    "version": 3
   },
   "file_extension": ".py",
   "mimetype": "text/x-python",
   "name": "python",
   "nbconvert_exporter": "python",
   "pygments_lexer": "ipython3",
   "version": "3.6.4"
  },
  "toc": {
   "base_numbering": 1,
   "nav_menu": {},
   "number_sections": true,
   "sideBar": true,
   "skip_h1_title": true,
   "title_cell": "Table of Contents",
   "title_sidebar": "Contents",
   "toc_cell": false,
   "toc_position": {},
   "toc_section_display": true,
   "toc_window_display": true
  }
 },
 "nbformat": 4,
 "nbformat_minor": 2
}
