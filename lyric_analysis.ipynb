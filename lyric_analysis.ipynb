{
 "cells": [
  {
   "cell_type": "markdown",
   "metadata": {},
   "source": [
    "# Get the lyric texts in chorus sections"
   ]
  },
  {
   "cell_type": "code",
   "execution_count": 7,
   "metadata": {},
   "outputs": [],
   "source": [
    "import pandas as pd\n",
    "import os\n",
    "\n",
    "def _str_2_sec(lrc_time):\n",
    "    min_sec = lrc_time.split(':')\n",
    "    sec = float(min_sec[0])*60 + float(min_sec[1])\n",
    "    return sec\n",
    "\n",
    "def _parse_lrcline(lrc):\n",
    "    lrc_t_w = lrc.split(']')\n",
    "    if lrc_t_w[0][1].isdecimal(): # has timestamp\n",
    "        if len(lrc_t_w) > 1:\n",
    "            if not ('作' in lrc_t_w[1]): # lrc sentence\n",
    "                lrc_time = _str_2_sec(lrc_t_w[0][1:])\n",
    "                return lrc_time, lrc_t_w[1]\n",
    "    return None\n",
    "\n",
    "def parse_lrc_text(music_id, lrc):\n",
    "    lrc_chorus = ''\n",
    "#     record = meta.loc[music_id]\n",
    "#     start_time = _str_2_sec(record['chorus_start_time'])\n",
    "#     end_time = _str_2_sec(record['chorus_end_time'])\n",
    "    with open(lrc) as f:\n",
    "        lrc_string = ''.join(f.readlines()).strip()\n",
    "    for lrc_line in lrc_string.split('\\n'):\n",
    "        lrc_t_w = _parse_lrcline(lrc_line)\n",
    "        if lrc_t_w:\n",
    "#             if lrc_t_w[0] > start_time and lrc_t_w[0] < end_time:\n",
    "            lrc_chorus = lrc_chorus+lrc_t_w[1]+'. '\n",
    "    return lrc_chorus.strip()"
   ]
  },
  {
   "cell_type": "code",
   "execution_count": 2,
   "metadata": {},
   "outputs": [],
   "source": [
    "lrc_dir = '/Users/huizhang/Desktop/PMEmo2.0/dataset2.0/lyrics'\n",
    "lrcs = [f for f in os.listdir(lrc_dir) if f[-4:]=='.lrc']\n",
    "def get_id(s):\n",
    "    return int(s[:-4])\n",
    "df = pd.DataFrame(index=map(get_id, lrcs), columns = ['lrc_text'])\n",
    "df.index.name ='musicId'"
   ]
  },
  {
   "cell_type": "code",
   "execution_count": 18,
   "metadata": {},
   "outputs": [],
   "source": [
    "for lrc in lrcs:\n",
    "    lrc_path = os.path.join(lrc_dir, lrc)\n",
    "    music_id = get_id(lrc)\n",
    "    lrc_text = parse_lrc_text(music_id, lrc_path)\n",
    "    df.loc[music_id] = lrc_text\n",
    "    \n",
    "df = df[df['lrc_text'] != '']"
   ]
  },
  {
   "cell_type": "code",
   "execution_count": 27,
   "metadata": {},
   "outputs": [],
   "source": [
    "static_anno = pd.read_csv('static_annotations.csv', index_col=0)\n",
    "dataset = df.join(static_anno).dropna()\n",
    "dataset.to_csv('lrc_dataset.csv')"
   ]
  }
 ],
 "metadata": {
  "kernelspec": {
   "display_name": "Python 3",
   "language": "python",
   "name": "python3"
  },
  "language_info": {
   "codemirror_mode": {
    "name": "ipython",
    "version": 3
   },
   "file_extension": ".py",
   "mimetype": "text/x-python",
   "name": "python",
   "nbconvert_exporter": "python",
   "pygments_lexer": "ipython3",
   "version": "3.6.4"
  },
  "toc": {
   "base_numbering": 1,
   "nav_menu": {},
   "number_sections": true,
   "sideBar": true,
   "skip_h1_title": true,
   "title_cell": "Table of Contents",
   "title_sidebar": "Contents",
   "toc_cell": false,
   "toc_position": {},
   "toc_section_display": true,
   "toc_window_display": true
  }
 },
 "nbformat": 4,
 "nbformat_minor": 2
}
